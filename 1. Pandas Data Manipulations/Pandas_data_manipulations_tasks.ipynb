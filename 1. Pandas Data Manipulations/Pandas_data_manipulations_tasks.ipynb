{
  "cells": [
    {
      "cell_type": "markdown",
      "id": "6d6010da",
      "metadata": {
        "id": "6d6010da"
      },
      "source": [
        "# How to complete this assignment\n",
        "First, download [this Kaggle dataset](https://www.kaggle.com/hugomathien/soccer) and extract *sqlite* database. You may need to register at https://www.kaggle.com/ beforehand. Then complete 15 graded tasks below, the score is given in brackets. Finally submit the resulting `.ipynb` file to rs-app Auto-test.\n",
        "\n",
        "- Do not delete or rename the variables given before the inscription `#your code here`, they are needed for the correct verification.\n",
        "- Do not change the code in the last Notebook cell, it is required for the server check.\n",
        "- Your Notebook must run completely without errors to be graded! Please check everything before submission by going *Cell -> Run All*"
      ]
    },
    {
      "cell_type": "markdown",
      "id": "0dbd5f9a",
      "metadata": {
        "id": "0dbd5f9a"
      },
      "source": [
        "## Some important notes\n",
        "- If you need to **calculate the number of \"something\"** that means we expect you to assign an Integer to the given variable\n",
        "- If you need to **make a list of \"something\"** we expect you to assign a Python list with appropriate values to the given variable\n",
        "- If you need to find a **specifiс player, day of the week, team, etc.** we expect you to assign a String with the full name of the entity to the given variable (`player_name`, day of week full name, `team_name`, etc.)"
      ]
    },
    {
      "cell_type": "code",
      "execution_count": 1,
      "id": "f52b1bac",
      "metadata": {
        "id": "f52b1bac"
      },
      "outputs": [],
      "source": [
        "import sqlite3\n",
        "import pandas as pd\n",
        "import os\n",
        "\n",
        "pd.set_option('display.max_column', None)"
      ]
    },
    {
      "cell_type": "code",
      "execution_count": 2,
      "id": "8ebe6afd",
      "metadata": {
        "id": "8ebe6afd"
      },
      "outputs": [],
      "source": [
        "# Leave that code unchanged, it is required for the server check!\n",
        "db = sqlite3.connect(os.environ.get(\"DB_PATH\") or 'database.sqlite')"
      ]
    },
    {
      "cell_type": "code",
      "execution_count": 3,
      "id": "9860d0d0",
      "metadata": {
        "id": "9860d0d0"
      },
      "outputs": [],
      "source": [
        "# You may load the data from SQL table directly to the Pandas dataframe as\n",
        "player_data = pd.read_sql(\"SELECT * FROM Player;\", db)"
      ]
    },
    {
      "cell_type": "markdown",
      "id": "f8b23f3a",
      "metadata": {
        "id": "f8b23f3a"
      },
      "source": [
        "**Task 1 (0.25 point).** Calculate the number of players with a height between 180 and 190 inclusive"
      ]
    },
    {
      "cell_type": "code",
      "execution_count": 4,
      "id": "7cd6f780",
      "metadata": {
        "id": "7cd6f780"
      },
      "outputs": [],
      "source": [
        "players_180_190 = len(player_data[(player_data[\"height\"] <= 190) & (player_data[\"height\"] >= 180)])"
      ]
    },
    {
      "cell_type": "code",
      "execution_count": 5,
      "id": "9d058065",
      "metadata": {
        "id": "9d058065"
      },
      "outputs": [],
      "source": [
        "assert(isinstance(players_180_190, int))"
      ]
    },
    {
      "cell_type": "markdown",
      "id": "5a39f3bc",
      "metadata": {
        "id": "5a39f3bc"
      },
      "source": [
        "**Task 2 (0.25 point).** Calculate the number of players born in 1980. <br>\n",
        "**Hint:** you may want to cast your 'birthday' column to DateTime type by [pandas.to_datetime](https://pandas.pydata.org/docs/reference/api/pandas.to_datetime.html)"
      ]
    },
    {
      "cell_type": "code",
      "execution_count": 6,
      "id": "ff21f7a2",
      "metadata": {
        "id": "ff21f7a2"
      },
      "outputs": [],
      "source": [
        "player_data[\"birthday\"] = pd.to_datetime(player_data[\"birthday\"])\n",
        "players_1980 = len(player_data[player_data[\"birthday\"].dt.year == 1980])"
      ]
    },
    {
      "cell_type": "code",
      "execution_count": 7,
      "id": "e53cc066",
      "metadata": {
        "id": "e53cc066"
      },
      "outputs": [],
      "source": [
        "assert(isinstance(players_1980, int))"
      ]
    },
    {
      "cell_type": "markdown",
      "id": "70d1dea0",
      "metadata": {
        "id": "70d1dea0"
      },
      "source": [
        "**Task 3 (0.25 point).** Make a list of the top 10 players with the highest weight sorted in descending order. If there are several players with the same weight put them in the lexicographic order by name."
      ]
    },
    {
      "cell_type": "code",
      "execution_count": 8,
      "id": "b0dbdaf5",
      "metadata": {
        "id": "b0dbdaf5"
      },
      "outputs": [],
      "source": [
        "highest_players = player_data.sort_values(by=[\"weight\", \"player_name\"], ascending=[False, True]).head(10)[\"player_name\"].values.tolist()"
      ]
    },
    {
      "cell_type": "code",
      "execution_count": 9,
      "id": "40dabe0d",
      "metadata": {
        "id": "40dabe0d"
      },
      "outputs": [],
      "source": [
        "assert(len(highest_players) == 10)\n",
        "assert(isinstance(highest_players, list))\n",
        "for i in range(10):\n",
        "    assert(isinstance(highest_players[i], str))"
      ]
    },
    {
      "cell_type": "markdown",
      "id": "ff30607f",
      "metadata": {
        "id": "ff30607f"
      },
      "source": [
        "**Task 4 (0.5 point).** Make a list of tuples containing years along with the number of players born in that year from 1980 up to 1990. <br>\n",
        "**Structure example**: [(1980, 123), (1981, 140) ..., (1990, 83)] -> There were born 123 players in 1980, there were born 140 players in 1981 and etc."
      ]
    },
    {
      "cell_type": "code",
      "execution_count": 10,
      "id": "c7ae3228-794d-443b-bd5a-ca9dcbd7b605",
      "metadata": {
        "id": "c7ae3228-794d-443b-bd5a-ca9dcbd7b605"
      },
      "outputs": [],
      "source": [
        "players_amount_in_years = player_data[(player_data[\"birthday\"].dt.year >= 1980) & (player_data[\"birthday\"].dt.year <= 1990)][\"birthday\"] \\\n",
        ".dt.year.value_counts().sort_index()\n",
        "years_born_players = list(zip(players_amount_in_years.index, players_amount_in_years))"
      ]
    },
    {
      "cell_type": "code",
      "execution_count": 11,
      "id": "64cbf754",
      "metadata": {
        "id": "64cbf754"
      },
      "outputs": [],
      "source": [
        "assert(len(years_born_players) == 11)\n",
        "assert(isinstance(years_born_players, list))\n",
        "for i in range(10):\n",
        "    assert(isinstance(years_born_players[i], tuple))\n",
        "    assert(isinstance(years_born_players[i][0], int))\n",
        "    assert(isinstance(years_born_players[i][1], int))"
      ]
    },
    {
      "cell_type": "markdown",
      "id": "33cbd931",
      "metadata": {
        "id": "33cbd931"
      },
      "source": [
        "**Task 5 (0.5 point).** Calculate the mean and the standard deviation of the players' **height** with the name **Adriano**. <br>\n",
        "**Note:** Name is represented by the first part of `player_name`."
      ]
    },
    {
      "cell_type": "code",
      "execution_count": 12,
      "id": "614fac31",
      "metadata": {
        "id": "614fac31"
      },
      "outputs": [],
      "source": [
        "adriano_name_players = player_data[player_data[\"player_name\"].str.startswith(\"Adriano\")]\n",
        "adriano_mean, adriano_std = adriano_name_players[\"height\"].mean(), adriano_name_players[\"height\"].std()"
      ]
    },
    {
      "cell_type": "code",
      "execution_count": 13,
      "id": "f508c49f",
      "metadata": {
        "id": "f508c49f"
      },
      "outputs": [],
      "source": [
        "assert(isinstance(adriano_mean, float))\n",
        "assert(isinstance(adriano_std, float))"
      ]
    },
    {
      "cell_type": "markdown",
      "id": "8a361dfd",
      "metadata": {
        "id": "8a361dfd"
      },
      "source": [
        "**Task 6 (0.75 point).** How many players were born on each day of the week? Find the day of the week with the minimum number of players born."
      ]
    },
    {
      "cell_type": "code",
      "execution_count": 14,
      "id": "c140be4f",
      "metadata": {
        "id": "c140be4f"
      },
      "outputs": [],
      "source": [
        "weekdays = {0 : \"Monday\", 1 : \"Thuesday\", 2 : \"Wednesday\", 3 : \"Thursday\", 4 : \"Friday\", 5 : \"Saturday\", 6 : \"Sunday\"}\n",
        "dow_with_min_players_born = weekdays[player_data[\"birthday\"].dt.weekday.value_counts().argmin()]"
      ]
    },
    {
      "cell_type": "code",
      "execution_count": 15,
      "id": "fc041623",
      "metadata": {
        "id": "fc041623"
      },
      "outputs": [],
      "source": [
        "assert(isinstance(dow_with_min_players_born, str))"
      ]
    },
    {
      "cell_type": "markdown",
      "id": "dc7428be",
      "metadata": {
        "id": "dc7428be"
      },
      "source": [
        "**Task 7 (0.75 point).** Find a league with the most matches in total. If there are several leagues with the same amount of matches, take the first in the lexical order."
      ]
    },
    {
      "cell_type": "code",
      "execution_count": 16,
      "id": "ff3113ac",
      "metadata": {
        "id": "ff3113ac"
      },
      "outputs": [],
      "source": [
        "matches_data = pd.read_sql(\"SELECT * FROM Match;\", db)"
      ]
    },
    {
      "cell_type": "code",
      "execution_count": 17,
      "id": "97361a6f-1c2f-4467-8da8-232fe4448804",
      "metadata": {
        "id": "97361a6f-1c2f-4467-8da8-232fe4448804"
      },
      "outputs": [],
      "source": [
        "leagues_data = pd.read_sql(\"SELECT * FROM League;\", db)"
      ]
    },
    {
      "cell_type": "code",
      "execution_count": 18,
      "id": "5d954856-bb71-477e-977f-ab17b10cec8e",
      "metadata": {
        "id": "5d954856-bb71-477e-977f-ab17b10cec8e"
      },
      "outputs": [],
      "source": [
        "matches_data = pd.merge(matches_data, leagues_data, how=\"left\", on=\"country_id\")"
      ]
    },
    {
      "cell_type": "code",
      "execution_count": 19,
      "id": "4feb4a0a-f166-4c34-8271-764305360e1c",
      "metadata": {
        "id": "4feb4a0a-f166-4c34-8271-764305360e1c"
      },
      "outputs": [],
      "source": [
        "league_most_matches = matches_data[\"name\"].value_counts().idxmax()"
      ]
    },
    {
      "cell_type": "code",
      "execution_count": 20,
      "id": "390a265b",
      "metadata": {
        "id": "390a265b"
      },
      "outputs": [],
      "source": [
        "assert(isinstance(league_most_matches, str))"
      ]
    },
    {
      "cell_type": "markdown",
      "id": "97199b7d",
      "metadata": {
        "id": "97199b7d"
      },
      "source": [
        "**Task 8 (1.25 point).** Find a player who participated in the largest number of matches during the whole match history. Assign a `player_name` to the given variable"
      ]
    },
    {
      "cell_type": "code",
      "execution_count": 21,
      "id": "a6967091-97f1-4a80-bb55-635878121eca",
      "metadata": {
        "id": "a6967091-97f1-4a80-bb55-635878121eca"
      },
      "outputs": [],
      "source": [
        "players_attributes_data = pd.read_sql(\"SELECT * FROM Player_Attributes;\", db)"
      ]
    },
    {
      "cell_type": "code",
      "execution_count": 34,
      "id": "8db19ed5-23ea-41e8-91f1-04c8fa6c1d5a",
      "metadata": {
        "id": "8db19ed5-23ea-41e8-91f1-04c8fa6c1d5a"
      },
      "outputs": [],
      "source": [
        "player_names =  player_data[\"player_name\"]\n",
        "player_names.index = player_data[\"player_api_id\"]\n",
        "players_attributes_data = pd.merge(players_attributes_data, player_names, how=\"left\", on=\"player_api_id\")"
      ]
    },
    {
      "cell_type": "code",
      "execution_count": 23,
      "id": "3EcMsgCcki22",
      "metadata": {
        "id": "3EcMsgCcki22"
      },
      "outputs": [],
      "source": [
        "subset_names = [\"home_player_\" + str(x) for x in range(1, 12)] + \\\n",
        "                [\"away_player_\" + str(x) for x in range(1, 12)]"
      ]
    },
    {
      "cell_type": "code",
      "execution_count": 24,
      "id": "qsTivEvsjvUV",
      "metadata": {
        "id": "qsTivEvsjvUV"
      },
      "outputs": [],
      "source": [
        "dropped_nan_matches_data = matches_data.dropna(subset=subset_names)\n",
        "matches_player_ids = dropped_nan_matches_data[subset_names].astype(int)\n",
        "most_played_player_index = matches_player_ids.unstack().value_counts().idxmax()"
      ]
    },
    {
      "cell_type": "code",
      "execution_count": 25,
      "id": "ec31bc69",
      "metadata": {
        "id": "ec31bc69"
      },
      "outputs": [],
      "source": [
        "max_matches_player = player_data[player_data[\"player_api_id\"] == most_played_player_index].head()[\"player_name\"].values[0]"
      ]
    },
    {
      "cell_type": "code",
      "execution_count": 26,
      "id": "00ec2e89",
      "metadata": {
        "id": "00ec2e89"
      },
      "outputs": [],
      "source": [
        "assert(isinstance(max_matches_player, str))"
      ]
    },
    {
      "cell_type": "markdown",
      "id": "dbc68bfe",
      "metadata": {
        "id": "dbc68bfe"
      },
      "source": [
        "**Task 9 (1.5 point).** List top-5 tuples of most correlated **player's characteristics** in the descending order of the absolute [Pearson's coefficient](https://en.wikipedia.org/wiki/Pearson_correlation_coefficient) value.\n",
        "\n",
        "**Note 1:** Players characteristics are all the columns in `Player_Attributes` table except `[id, player_fifa_api_id, player_api_id, date, preferred_foot, attacking_work_rate, defensive_work_rate]`). <br>\n",
        "**Note 2:** Exclude duplicated pairs from the list. E.g. ('gk_handling', 'gk_reflexes') and ('gk_reflexes', 'gk_handling') are duplicates, leave just one of them in the resulting list.\n",
        "\n",
        "**Hint:** You may use [dataframe.corr()](https://pandas.pydata.org/docs/reference/api/pandas.DataFrame.corr.html) for calculating pairwise Pearson correlation."
      ]
    },
    {
      "cell_type": "code",
      "execution_count": 27,
      "id": "27a3b449-e0f1-4c53-849b-4325393dd5f7",
      "metadata": {
        "id": "27a3b449-e0f1-4c53-849b-4325393dd5f7"
      },
      "outputs": [],
      "source": [
        "characteristics = players_attributes_data.columns.tolist()\n",
        "characteristics = set(characteristics)\n",
        "to_drop = set([\"id\", \"player_fifa_api_id\", \"player_api_id\", \"date\", \"preferred_foot\", \"attacking_work_rate\", \"defensive_work_rate\", \"player_name\"])\n",
        "characteristics.difference_update(to_drop)\n",
        "characteristics = list(characteristics)"
      ]
    },
    {
      "cell_type": "code",
      "execution_count": 87,
      "id": "aaa8fe9f-2a0e-4281-9930-ddada0012c61",
      "metadata": {
        "id": "aaa8fe9f-2a0e-4281-9930-ddada0012c61"
      },
      "outputs": [],
      "source": [
        "correlations = players_attributes_data[characteristics].corr()"
      ]
    },
    {
      "cell_type": "code",
      "execution_count": 29,
      "id": "cb4b9a63-ea89-4635-9d9f-31abfd08eac2",
      "metadata": {
        "id": "cb4b9a63-ea89-4635-9d9f-31abfd08eac2"
      },
      "outputs": [],
      "source": [
        "def get_pairs_to_drop(df):\n",
        "    to_drop = set()\n",
        "    columns = df.columns\n",
        "    for i in range(0, df.shape[1]):\n",
        "        for j in range(0, i+1):\n",
        "            to_drop.add((columns[i], columns[j]))\n",
        "    return to_drop"
      ]
    },
    {
      "cell_type": "code",
      "execution_count": 30,
      "id": "b7e4f9db-a66a-4281-a28c-d6dbfae136e1",
      "metadata": {
        "id": "b7e4f9db-a66a-4281-a28c-d6dbfae136e1"
      },
      "outputs": [],
      "source": [
        "correlations = correlations.abs().unstack().drop(labels=get_pairs_to_drop(correlations))"
      ]
    },
    {
      "cell_type": "code",
      "execution_count": 31,
      "id": "47c1412e",
      "metadata": {
        "id": "47c1412e"
      },
      "outputs": [],
      "source": [
        "top_correlated_features = correlations.sort_values(ascending=False).head().index.tolist()"
      ]
    },
    {
      "cell_type": "code",
      "execution_count": 32,
      "id": "67acd6bf",
      "metadata": {
        "id": "67acd6bf"
      },
      "outputs": [],
      "source": [
        "assert(len(top_correlated_features) == 5)\n",
        "assert(isinstance(top_correlated_features, list))\n",
        "for i in range(5):\n",
        "    assert(isinstance(top_correlated_features[i], tuple))\n",
        "    assert(isinstance(top_correlated_features[i][0], str))\n",
        "    assert(isinstance(top_correlated_features[i][1], str))"
      ]
    },
    {
      "cell_type": "markdown",
      "id": "7d3d8fd3",
      "metadata": {
        "id": "7d3d8fd3"
      },
      "source": [
        "**Task 10 (2 points).** Find top-5 most similar players to **Neymar** whose names are given. The similarity is measured as [Euclidean distance](https://en.wikipedia.org/wiki/Euclidean_distance) between vectors of players' characteristics (described in the task above). Put their names in a vector in ascending order by Euclidean distance and sorted by `player_name` if the distance is the same<br>\n",
        "**Note 1:** There are many records for some players in the `Player_Attributes` table. You need to take the freshest data (characteristics with the most recent `date`). <br>\n",
        "**Note 2:** Use pure values of the characteristics even if you are aware of such preprocessing technics as normalization. <br>\n",
        "**Note 3:** Please avoid using any built-in methods for calculating the Euclidean distance between vectors, think about implementing your own."
      ]
    },
    {
      "cell_type": "code",
      "execution_count": 164,
      "id": "f3b9ffb7-f92b-4db7-94bc-29e80530250a",
      "metadata": {
        "colab": {
          "base_uri": "https://localhost:8080/"
        },
        "id": "f3b9ffb7-f92b-4db7-94bc-29e80530250a",
        "outputId": "c38f7f87-0400-48c2-f2fa-d4f095623270"
      },
      "outputs": [
        {
          "data": {
            "text/plain": [
              "heading_accuracy      62.0\n",
              "free_kick_accuracy    79.0\n",
              "aggression            56.0\n",
              "crossing              72.0\n",
              "jumping               61.0\n",
              "strength              45.0\n",
              "gk_handling            9.0\n",
              "stamina               79.0\n",
              "reactions             86.0\n",
              "gk_positioning        15.0\n",
              "balance               84.0\n",
              "curve                 78.0\n",
              "ball_control          93.0\n",
              "dribbling             94.0\n",
              "agility               92.0\n",
              "long_shots            73.0\n",
              "marking               21.0\n",
              "sprint_speed          90.0\n",
              "gk_diving              9.0\n",
              "sliding_tackle        33.0\n",
              "gk_reflexes           11.0\n",
              "interceptions         36.0\n",
              "finishing             88.0\n",
              "shot_power            78.0\n",
              "gk_kicking            15.0\n",
              "potential             94.0\n",
              "standing_tackle       24.0\n",
              "long_passing          74.0\n",
              "vision                79.0\n",
              "positioning           89.0\n",
              "short_passing         78.0\n",
              "acceleration          91.0\n",
              "penalties             81.0\n",
              "volleys               83.0\n",
              "overall_rating        90.0\n",
              "Name: 131464, dtype: float64"
            ]
          },
          "execution_count": 164,
          "metadata": {},
          "output_type": "execute_result"
        }
      ],
      "source": [
        "neymar_data = players_attributes_data[players_attributes_data[\"player_name\"] == \"Neymar\"]\n",
        "neymar_latest_data = neymar_data.sort_values(by=\"date\", ascending=False)[characteristics].iloc[0]\n",
        "neymar_latest_data"
      ]
    },
    {
      "cell_type": "code",
      "execution_count": 200,
      "id": "8665aa15-14a7-48e9-a1f1-25e980a7cc8f",
      "metadata": {
        "id": "8665aa15-14a7-48e9-a1f1-25e980a7cc8f"
      },
      "outputs": [],
      "source": [
        "import numpy as np\n",
        "players_attributes_data[\"similarity_to_Neymar\"] = players_attributes_data[characteristics].sub(neymar_latest_data, axis=\"columns\") \\\n",
        ".apply(lambda x: x**2).sum(axis=\"columns\").apply(np.sqrt)\n",
        "players_attributes_data = players_attributes_data.dropna(subset=characteristics)"
      ]
    },
    {
      "cell_type": "code",
      "execution_count": 204,
      "id": "IdMdjJBe7QJl",
      "metadata": {
        "colab": {
          "base_uri": "https://localhost:8080/",
          "height": 444
        },
        "id": "IdMdjJBe7QJl",
        "outputId": "64cecf21-179d-4393-e7d8-1ddaddc3ba39"
      },
      "outputs": [
        {
          "data": {
            "text/html": [
              "\n",
              "  <div id=\"df-33b90d67-f8d3-4bba-8fdf-f1e0deef1d14\">\n",
              "    <div class=\"colab-df-container\">\n",
              "      <div>\n",
              "<style scoped>\n",
              "    .dataframe tbody tr th:only-of-type {\n",
              "        vertical-align: middle;\n",
              "    }\n",
              "\n",
              "    .dataframe tbody tr th {\n",
              "        vertical-align: top;\n",
              "    }\n",
              "\n",
              "    .dataframe thead th {\n",
              "        text-align: right;\n",
              "    }\n",
              "</style>\n",
              "<table border=\"1\" class=\"dataframe\">\n",
              "  <thead>\n",
              "    <tr style=\"text-align: right;\">\n",
              "      <th></th>\n",
              "      <th>id</th>\n",
              "      <th>player_fifa_api_id</th>\n",
              "      <th>player_api_id</th>\n",
              "      <th>date</th>\n",
              "      <th>overall_rating</th>\n",
              "      <th>potential</th>\n",
              "      <th>preferred_foot</th>\n",
              "      <th>attacking_work_rate</th>\n",
              "      <th>defensive_work_rate</th>\n",
              "      <th>crossing</th>\n",
              "      <th>finishing</th>\n",
              "      <th>heading_accuracy</th>\n",
              "      <th>short_passing</th>\n",
              "      <th>volleys</th>\n",
              "      <th>dribbling</th>\n",
              "      <th>curve</th>\n",
              "      <th>free_kick_accuracy</th>\n",
              "      <th>long_passing</th>\n",
              "      <th>ball_control</th>\n",
              "      <th>acceleration</th>\n",
              "      <th>sprint_speed</th>\n",
              "      <th>agility</th>\n",
              "      <th>reactions</th>\n",
              "      <th>balance</th>\n",
              "      <th>shot_power</th>\n",
              "      <th>jumping</th>\n",
              "      <th>stamina</th>\n",
              "      <th>strength</th>\n",
              "      <th>long_shots</th>\n",
              "      <th>aggression</th>\n",
              "      <th>interceptions</th>\n",
              "      <th>positioning</th>\n",
              "      <th>vision</th>\n",
              "      <th>penalties</th>\n",
              "      <th>marking</th>\n",
              "      <th>standing_tackle</th>\n",
              "      <th>sliding_tackle</th>\n",
              "      <th>gk_diving</th>\n",
              "      <th>gk_handling</th>\n",
              "      <th>gk_kicking</th>\n",
              "      <th>gk_positioning</th>\n",
              "      <th>gk_reflexes</th>\n",
              "      <th>player_name</th>\n",
              "      <th>similarity_to_Neymar</th>\n",
              "    </tr>\n",
              "  </thead>\n",
              "  <tbody>\n",
              "    <tr>\n",
              "      <th>131464</th>\n",
              "      <td>131465</td>\n",
              "      <td>190871</td>\n",
              "      <td>19533</td>\n",
              "      <td>2016-02-04 00:00:00</td>\n",
              "      <td>90.0</td>\n",
              "      <td>94.0</td>\n",
              "      <td>right</td>\n",
              "      <td>high</td>\n",
              "      <td>medium</td>\n",
              "      <td>72.0</td>\n",
              "      <td>88.0</td>\n",
              "      <td>62.0</td>\n",
              "      <td>78.0</td>\n",
              "      <td>83.0</td>\n",
              "      <td>94.0</td>\n",
              "      <td>78.0</td>\n",
              "      <td>79.0</td>\n",
              "      <td>74.0</td>\n",
              "      <td>93.0</td>\n",
              "      <td>91.0</td>\n",
              "      <td>90.0</td>\n",
              "      <td>92.0</td>\n",
              "      <td>86.0</td>\n",
              "      <td>84.0</td>\n",
              "      <td>78.0</td>\n",
              "      <td>61.0</td>\n",
              "      <td>79.0</td>\n",
              "      <td>45.0</td>\n",
              "      <td>73.0</td>\n",
              "      <td>56.0</td>\n",
              "      <td>36.0</td>\n",
              "      <td>89.0</td>\n",
              "      <td>79.0</td>\n",
              "      <td>81.0</td>\n",
              "      <td>21.0</td>\n",
              "      <td>24.0</td>\n",
              "      <td>33.0</td>\n",
              "      <td>9.0</td>\n",
              "      <td>9.0</td>\n",
              "      <td>15.0</td>\n",
              "      <td>15.0</td>\n",
              "      <td>11.0</td>\n",
              "      <td>Neymar</td>\n",
              "      <td>0.000000</td>\n",
              "    </tr>\n",
              "    <tr>\n",
              "      <th>140773</th>\n",
              "      <td>140774</td>\n",
              "      <td>211110</td>\n",
              "      <td>325916</td>\n",
              "      <td>2016-05-05 00:00:00</td>\n",
              "      <td>81.0</td>\n",
              "      <td>87.0</td>\n",
              "      <td>left</td>\n",
              "      <td>medium</td>\n",
              "      <td>medium</td>\n",
              "      <td>72.0</td>\n",
              "      <td>87.0</td>\n",
              "      <td>60.0</td>\n",
              "      <td>78.0</td>\n",
              "      <td>80.0</td>\n",
              "      <td>89.0</td>\n",
              "      <td>81.0</td>\n",
              "      <td>82.0</td>\n",
              "      <td>58.0</td>\n",
              "      <td>90.0</td>\n",
              "      <td>90.0</td>\n",
              "      <td>85.0</td>\n",
              "      <td>91.0</td>\n",
              "      <td>82.0</td>\n",
              "      <td>85.0</td>\n",
              "      <td>77.0</td>\n",
              "      <td>69.0</td>\n",
              "      <td>79.0</td>\n",
              "      <td>55.0</td>\n",
              "      <td>83.0</td>\n",
              "      <td>48.0</td>\n",
              "      <td>31.0</td>\n",
              "      <td>85.0</td>\n",
              "      <td>79.0</td>\n",
              "      <td>76.0</td>\n",
              "      <td>15.0</td>\n",
              "      <td>21.0</td>\n",
              "      <td>21.0</td>\n",
              "      <td>9.0</td>\n",
              "      <td>11.0</td>\n",
              "      <td>9.0</td>\n",
              "      <td>10.0</td>\n",
              "      <td>11.0</td>\n",
              "      <td>Paulo Dybala</td>\n",
              "      <td>33.837849</td>\n",
              "    </tr>\n",
              "    <tr>\n",
              "      <th>47247</th>\n",
              "      <td>47248</td>\n",
              "      <td>183277</td>\n",
              "      <td>107417</td>\n",
              "      <td>2016-01-28 00:00:00</td>\n",
              "      <td>88.0</td>\n",
              "      <td>90.0</td>\n",
              "      <td>right</td>\n",
              "      <td>high</td>\n",
              "      <td>medium</td>\n",
              "      <td>80.0</td>\n",
              "      <td>81.0</td>\n",
              "      <td>57.0</td>\n",
              "      <td>85.0</td>\n",
              "      <td>79.0</td>\n",
              "      <td>94.0</td>\n",
              "      <td>82.0</td>\n",
              "      <td>79.0</td>\n",
              "      <td>82.0</td>\n",
              "      <td>90.0</td>\n",
              "      <td>93.0</td>\n",
              "      <td>87.0</td>\n",
              "      <td>92.0</td>\n",
              "      <td>86.0</td>\n",
              "      <td>90.0</td>\n",
              "      <td>79.0</td>\n",
              "      <td>59.0</td>\n",
              "      <td>74.0</td>\n",
              "      <td>63.0</td>\n",
              "      <td>82.0</td>\n",
              "      <td>54.0</td>\n",
              "      <td>41.0</td>\n",
              "      <td>84.0</td>\n",
              "      <td>86.0</td>\n",
              "      <td>86.0</td>\n",
              "      <td>25.0</td>\n",
              "      <td>27.0</td>\n",
              "      <td>22.0</td>\n",
              "      <td>11.0</td>\n",
              "      <td>12.0</td>\n",
              "      <td>6.0</td>\n",
              "      <td>8.0</td>\n",
              "      <td>8.0</td>\n",
              "      <td>Eden Hazard</td>\n",
              "      <td>34.957117</td>\n",
              "    </tr>\n",
              "    <tr>\n",
              "      <th>64607</th>\n",
              "      <td>64608</td>\n",
              "      <td>170369</td>\n",
              "      <td>41157</td>\n",
              "      <td>2016-01-07 00:00:00</td>\n",
              "      <td>79.0</td>\n",
              "      <td>80.0</td>\n",
              "      <td>left</td>\n",
              "      <td>high</td>\n",
              "      <td>low</td>\n",
              "      <td>74.0</td>\n",
              "      <td>81.0</td>\n",
              "      <td>61.0</td>\n",
              "      <td>73.0</td>\n",
              "      <td>79.0</td>\n",
              "      <td>85.0</td>\n",
              "      <td>73.0</td>\n",
              "      <td>80.0</td>\n",
              "      <td>71.0</td>\n",
              "      <td>85.0</td>\n",
              "      <td>87.0</td>\n",
              "      <td>86.0</td>\n",
              "      <td>89.0</td>\n",
              "      <td>80.0</td>\n",
              "      <td>89.0</td>\n",
              "      <td>80.0</td>\n",
              "      <td>65.0</td>\n",
              "      <td>68.0</td>\n",
              "      <td>45.0</td>\n",
              "      <td>79.0</td>\n",
              "      <td>53.0</td>\n",
              "      <td>28.0</td>\n",
              "      <td>80.0</td>\n",
              "      <td>70.0</td>\n",
              "      <td>70.0</td>\n",
              "      <td>21.0</td>\n",
              "      <td>28.0</td>\n",
              "      <td>23.0</td>\n",
              "      <td>6.0</td>\n",
              "      <td>9.0</td>\n",
              "      <td>11.0</td>\n",
              "      <td>7.0</td>\n",
              "      <td>5.0</td>\n",
              "      <td>Giovani dos Santos</td>\n",
              "      <td>38.314488</td>\n",
              "    </tr>\n",
              "    <tr>\n",
              "      <th>16460</th>\n",
              "      <td>16461</td>\n",
              "      <td>9014</td>\n",
              "      <td>30834</td>\n",
              "      <td>2016-01-28 00:00:00</td>\n",
              "      <td>89.0</td>\n",
              "      <td>89.0</td>\n",
              "      <td>left</td>\n",
              "      <td>high</td>\n",
              "      <td>low</td>\n",
              "      <td>80.0</td>\n",
              "      <td>85.0</td>\n",
              "      <td>51.0</td>\n",
              "      <td>85.0</td>\n",
              "      <td>86.0</td>\n",
              "      <td>93.0</td>\n",
              "      <td>86.0</td>\n",
              "      <td>83.0</td>\n",
              "      <td>73.0</td>\n",
              "      <td>90.0</td>\n",
              "      <td>90.0</td>\n",
              "      <td>90.0</td>\n",
              "      <td>91.0</td>\n",
              "      <td>91.0</td>\n",
              "      <td>91.0</td>\n",
              "      <td>86.0</td>\n",
              "      <td>61.0</td>\n",
              "      <td>73.0</td>\n",
              "      <td>65.0</td>\n",
              "      <td>90.0</td>\n",
              "      <td>47.0</td>\n",
              "      <td>39.0</td>\n",
              "      <td>88.0</td>\n",
              "      <td>84.0</td>\n",
              "      <td>80.0</td>\n",
              "      <td>29.0</td>\n",
              "      <td>26.0</td>\n",
              "      <td>26.0</td>\n",
              "      <td>10.0</td>\n",
              "      <td>8.0</td>\n",
              "      <td>11.0</td>\n",
              "      <td>5.0</td>\n",
              "      <td>15.0</td>\n",
              "      <td>Arjen Robben</td>\n",
              "      <td>40.024992</td>\n",
              "    </tr>\n",
              "  </tbody>\n",
              "</table>\n",
              "</div>\n",
              "      <button class=\"colab-df-convert\" onclick=\"convertToInteractive('df-33b90d67-f8d3-4bba-8fdf-f1e0deef1d14')\"\n",
              "              title=\"Convert this dataframe to an interactive table.\"\n",
              "              style=\"display:none;\">\n",
              "        \n",
              "  <svg xmlns=\"http://www.w3.org/2000/svg\" height=\"24px\"viewBox=\"0 0 24 24\"\n",
              "       width=\"24px\">\n",
              "    <path d=\"M0 0h24v24H0V0z\" fill=\"none\"/>\n",
              "    <path d=\"M18.56 5.44l.94 2.06.94-2.06 2.06-.94-2.06-.94-.94-2.06-.94 2.06-2.06.94zm-11 1L8.5 8.5l.94-2.06 2.06-.94-2.06-.94L8.5 2.5l-.94 2.06-2.06.94zm10 10l.94 2.06.94-2.06 2.06-.94-2.06-.94-.94-2.06-.94 2.06-2.06.94z\"/><path d=\"M17.41 7.96l-1.37-1.37c-.4-.4-.92-.59-1.43-.59-.52 0-1.04.2-1.43.59L10.3 9.45l-7.72 7.72c-.78.78-.78 2.05 0 2.83L4 21.41c.39.39.9.59 1.41.59.51 0 1.02-.2 1.41-.59l7.78-7.78 2.81-2.81c.8-.78.8-2.07 0-2.86zM5.41 20L4 18.59l7.72-7.72 1.47 1.35L5.41 20z\"/>\n",
              "  </svg>\n",
              "      </button>\n",
              "      \n",
              "  <style>\n",
              "    .colab-df-container {\n",
              "      display:flex;\n",
              "      flex-wrap:wrap;\n",
              "      gap: 12px;\n",
              "    }\n",
              "\n",
              "    .colab-df-convert {\n",
              "      background-color: #E8F0FE;\n",
              "      border: none;\n",
              "      border-radius: 50%;\n",
              "      cursor: pointer;\n",
              "      display: none;\n",
              "      fill: #1967D2;\n",
              "      height: 32px;\n",
              "      padding: 0 0 0 0;\n",
              "      width: 32px;\n",
              "    }\n",
              "\n",
              "    .colab-df-convert:hover {\n",
              "      background-color: #E2EBFA;\n",
              "      box-shadow: 0px 1px 2px rgba(60, 64, 67, 0.3), 0px 1px 3px 1px rgba(60, 64, 67, 0.15);\n",
              "      fill: #174EA6;\n",
              "    }\n",
              "\n",
              "    [theme=dark] .colab-df-convert {\n",
              "      background-color: #3B4455;\n",
              "      fill: #D2E3FC;\n",
              "    }\n",
              "\n",
              "    [theme=dark] .colab-df-convert:hover {\n",
              "      background-color: #434B5C;\n",
              "      box-shadow: 0px 1px 3px 1px rgba(0, 0, 0, 0.15);\n",
              "      filter: drop-shadow(0px 1px 2px rgba(0, 0, 0, 0.3));\n",
              "      fill: #FFFFFF;\n",
              "    }\n",
              "  </style>\n",
              "\n",
              "      <script>\n",
              "        const buttonEl =\n",
              "          document.querySelector('#df-33b90d67-f8d3-4bba-8fdf-f1e0deef1d14 button.colab-df-convert');\n",
              "        buttonEl.style.display =\n",
              "          google.colab.kernel.accessAllowed ? 'block' : 'none';\n",
              "\n",
              "        async function convertToInteractive(key) {\n",
              "          const element = document.querySelector('#df-33b90d67-f8d3-4bba-8fdf-f1e0deef1d14');\n",
              "          const dataTable =\n",
              "            await google.colab.kernel.invokeFunction('convertToInteractive',\n",
              "                                                     [key], {});\n",
              "          if (!dataTable) return;\n",
              "\n",
              "          const docLinkHtml = 'Like what you see? Visit the ' +\n",
              "            '<a target=\"_blank\" href=https://colab.research.google.com/notebooks/data_table.ipynb>data table notebook</a>'\n",
              "            + ' to learn more about interactive tables.';\n",
              "          element.innerHTML = '';\n",
              "          dataTable['output_type'] = 'display_data';\n",
              "          await google.colab.output.renderOutput(dataTable, element);\n",
              "          const docLink = document.createElement('div');\n",
              "          docLink.innerHTML = docLinkHtml;\n",
              "          element.appendChild(docLink);\n",
              "        }\n",
              "      </script>\n",
              "    </div>\n",
              "  </div>\n",
              "  "
            ],
            "text/plain": [
              "            id  player_fifa_api_id  player_api_id                 date  \\\n",
              "131464  131465              190871          19533  2016-02-04 00:00:00   \n",
              "140773  140774              211110         325916  2016-05-05 00:00:00   \n",
              "47247    47248              183277         107417  2016-01-28 00:00:00   \n",
              "64607    64608              170369          41157  2016-01-07 00:00:00   \n",
              "16460    16461                9014          30834  2016-01-28 00:00:00   \n",
              "\n",
              "        overall_rating  potential preferred_foot attacking_work_rate  \\\n",
              "131464            90.0       94.0          right                high   \n",
              "140773            81.0       87.0           left              medium   \n",
              "47247             88.0       90.0          right                high   \n",
              "64607             79.0       80.0           left                high   \n",
              "16460             89.0       89.0           left                high   \n",
              "\n",
              "       defensive_work_rate  crossing  finishing  heading_accuracy  \\\n",
              "131464              medium      72.0       88.0              62.0   \n",
              "140773              medium      72.0       87.0              60.0   \n",
              "47247               medium      80.0       81.0              57.0   \n",
              "64607                  low      74.0       81.0              61.0   \n",
              "16460                  low      80.0       85.0              51.0   \n",
              "\n",
              "        short_passing  volleys  dribbling  curve  free_kick_accuracy  \\\n",
              "131464           78.0     83.0       94.0   78.0                79.0   \n",
              "140773           78.0     80.0       89.0   81.0                82.0   \n",
              "47247            85.0     79.0       94.0   82.0                79.0   \n",
              "64607            73.0     79.0       85.0   73.0                80.0   \n",
              "16460            85.0     86.0       93.0   86.0                83.0   \n",
              "\n",
              "        long_passing  ball_control  acceleration  sprint_speed  agility  \\\n",
              "131464          74.0          93.0          91.0          90.0     92.0   \n",
              "140773          58.0          90.0          90.0          85.0     91.0   \n",
              "47247           82.0          90.0          93.0          87.0     92.0   \n",
              "64607           71.0          85.0          87.0          86.0     89.0   \n",
              "16460           73.0          90.0          90.0          90.0     91.0   \n",
              "\n",
              "        reactions  balance  shot_power  jumping  stamina  strength  \\\n",
              "131464       86.0     84.0        78.0     61.0     79.0      45.0   \n",
              "140773       82.0     85.0        77.0     69.0     79.0      55.0   \n",
              "47247        86.0     90.0        79.0     59.0     74.0      63.0   \n",
              "64607        80.0     89.0        80.0     65.0     68.0      45.0   \n",
              "16460        91.0     91.0        86.0     61.0     73.0      65.0   \n",
              "\n",
              "        long_shots  aggression  interceptions  positioning  vision  penalties  \\\n",
              "131464        73.0        56.0           36.0         89.0    79.0       81.0   \n",
              "140773        83.0        48.0           31.0         85.0    79.0       76.0   \n",
              "47247         82.0        54.0           41.0         84.0    86.0       86.0   \n",
              "64607         79.0        53.0           28.0         80.0    70.0       70.0   \n",
              "16460         90.0        47.0           39.0         88.0    84.0       80.0   \n",
              "\n",
              "        marking  standing_tackle  sliding_tackle  gk_diving  gk_handling  \\\n",
              "131464     21.0             24.0            33.0        9.0          9.0   \n",
              "140773     15.0             21.0            21.0        9.0         11.0   \n",
              "47247      25.0             27.0            22.0       11.0         12.0   \n",
              "64607      21.0             28.0            23.0        6.0          9.0   \n",
              "16460      29.0             26.0            26.0       10.0          8.0   \n",
              "\n",
              "        gk_kicking  gk_positioning  gk_reflexes         player_name  \\\n",
              "131464        15.0            15.0         11.0              Neymar   \n",
              "140773         9.0            10.0         11.0        Paulo Dybala   \n",
              "47247          6.0             8.0          8.0         Eden Hazard   \n",
              "64607         11.0             7.0          5.0  Giovani dos Santos   \n",
              "16460         11.0             5.0         15.0        Arjen Robben   \n",
              "\n",
              "        similarity_to_Neymar  \n",
              "131464              0.000000  \n",
              "140773             33.837849  \n",
              "47247              34.957117  \n",
              "64607              38.314488  \n",
              "16460              40.024992  "
            ]
          },
          "execution_count": 204,
          "metadata": {},
          "output_type": "execute_result"
        }
      ],
      "source": [
        "player_names = players_attributes_data[\"player_name\"].unique()\n",
        "players_attributes_data = players_attributes_data.sort_values(by=\"date\", ascending=False)\n",
        "latest_players_attributes_data = players_attributes_data.drop_duplicates(subset=[\"player_name\"]) \\\n",
        ".sort_values(by=\"similarity_to_Neymar\", ascending=True)\n",
        "player_names = latest_players_attributes_data[\"player_name\"]\n",
        "latest_players_attributes_data.head()"
      ]
    },
    {
      "cell_type": "code",
      "execution_count": 205,
      "id": "fac5a571",
      "metadata": {
        "colab": {
          "base_uri": "https://localhost:8080/"
        },
        "id": "fac5a571",
        "outputId": "13e5323f-4178-4640-e4ba-4c91a72c8ea5"
      },
      "outputs": [
        {
          "data": {
            "text/plain": [
              "['Paulo Dybala',\n",
              " 'Eden Hazard',\n",
              " 'Giovani dos Santos',\n",
              " 'Arjen Robben',\n",
              " 'Lionel Messi']"
            ]
          },
          "execution_count": 205,
          "metadata": {},
          "output_type": "execute_result"
        }
      ],
      "source": [
        "neymar_similarities = player_names[1:6].tolist()\n",
        "neymar_similarities"
      ]
    },
    {
      "cell_type": "code",
      "execution_count": 188,
      "id": "ddb1876a",
      "metadata": {
        "id": "ddb1876a"
      },
      "outputs": [],
      "source": [
        "assert(len(neymar_similarities) == 5)\n",
        "assert(isinstance(neymar_similarities, list))\n",
        "for i in range(5):\n",
        "    assert(isinstance(neymar_similarities[i], str))"
      ]
    },
    {
      "cell_type": "markdown",
      "id": "a3a7f878",
      "metadata": {
        "id": "a3a7f878"
      },
      "source": [
        "**Task 11 (1 point).** Calculate the number of home matches played by the **Borussia Dortmund** team in **Germany 1. Bundesliga** in season **2008/2009**"
      ]
    },
    {
      "cell_type": "code",
      "execution_count": 42,
      "id": "ead41bcc-4493-4b94-a692-cf20c26dd9fc",
      "metadata": {
        "id": "ead41bcc-4493-4b94-a692-cf20c26dd9fc"
      },
      "outputs": [],
      "source": [
        "teams_data = pd.read_sql(\"SELECT * FROM Team;\", db)"
      ]
    },
    {
      "cell_type": "code",
      "execution_count": 43,
      "id": "ea63adfb-b7c6-4dc3-9c89-0f2cd0656633",
      "metadata": {
        "id": "ea63adfb-b7c6-4dc3-9c89-0f2cd0656633"
      },
      "outputs": [],
      "source": [
        "team_names =  teams_data[\"team_long_name\"]\n",
        "team_names.index = teams_data[\"team_api_id\"]"
      ]
    },
    {
      "cell_type": "code",
      "execution_count": 44,
      "id": "2197214c-9773-44e2-99f7-fcd17cbd9b2d",
      "metadata": {
        "id": "2197214c-9773-44e2-99f7-fcd17cbd9b2d"
      },
      "outputs": [],
      "source": [
        "matches_data = pd.merge(matches_data, team_names, how=\"left\", \n",
        "                        left_on=\"home_team_api_id\", right_on=\"team_api_id\")\n",
        "matches_data = pd.merge(matches_data, team_names, how=\"left\", \n",
        "                        left_on=\"away_team_api_id\", right_on=\"team_api_id\", suffixes=[\"_home\", \"_away\"])"
      ]
    },
    {
      "cell_type": "code",
      "execution_count": 45,
      "id": "bdf5a267",
      "metadata": {
        "id": "bdf5a267"
      },
      "outputs": [],
      "source": [
        "borussia_bundesliga_2008_2009_matches = len(matches_data[(matches_data[\"season\"] == \"2008/2009\") \n",
        "                                                         & (matches_data[\"name\"] == \"Germany 1. Bundesliga\")\n",
        "                                                        & (matches_data[\"team_long_name_home\"] == \"Borussia Dortmund\")])"
      ]
    },
    {
      "cell_type": "code",
      "execution_count": 46,
      "id": "488fdd4c",
      "metadata": {
        "id": "488fdd4c"
      },
      "outputs": [],
      "source": [
        "assert(isinstance(borussia_bundesliga_2008_2009_matches, int))"
      ]
    },
    {
      "cell_type": "markdown",
      "id": "69dca9a5",
      "metadata": {
        "id": "69dca9a5"
      },
      "source": [
        "**Task 12 (1 point).** Find a team having the most matches (both home and away!) in the **Germany 1. Bundesliga** in **2008/2009** season. Return number of matches."
      ]
    },
    {
      "cell_type": "code",
      "execution_count": 47,
      "id": "4b26e972-972d-4564-a9dc-e8dc168a0244",
      "metadata": {
        "id": "4b26e972-972d-4564-a9dc-e8dc168a0244"
      },
      "outputs": [],
      "source": [
        "home_matches_teams = matches_data[(matches_data[\"season\"] == \"2008/2009\") \\\n",
        "                & (matches_data[\"name\"] == \"Germany 1. Bundesliga\")][\"team_long_name_home\"].value_counts()\n",
        "away_matches_teams = matches_data[(matches_data[\"season\"] == \"2008/2009\") \\\n",
        "                & (matches_data[\"name\"] == \"Germany 1. Bundesliga\")][\"team_long_name_away\"].value_counts()\n",
        "total_matches_teams = home_matches_teams + away_matches_teams"
      ]
    },
    {
      "cell_type": "code",
      "execution_count": 48,
      "id": "9969ba5c",
      "metadata": {
        "id": "9969ba5c"
      },
      "outputs": [],
      "source": [
        "team_most_matches_bundesliga_2008_2009 = int(total_matches_teams.max())"
      ]
    },
    {
      "cell_type": "code",
      "execution_count": 49,
      "id": "ef3b8fa2",
      "metadata": {
        "id": "ef3b8fa2"
      },
      "outputs": [],
      "source": [
        "assert(isinstance(team_most_matches_bundesliga_2008_2009, int))"
      ]
    },
    {
      "cell_type": "markdown",
      "id": "2f3c65aa",
      "metadata": {
        "id": "2f3c65aa"
      },
      "source": [
        "**Task 13 (1 point).** Count total number of **Arsenal** matches (both home and away!) in the **2015/2016** season which they have won. <br><br>\n",
        "**Note:** Winning a game means scoring **more** goals than an opponent."
      ]
    },
    {
      "cell_type": "code",
      "execution_count": 50,
      "id": "52456f34",
      "metadata": {
        "id": "52456f34"
      },
      "outputs": [],
      "source": [
        "arsenal_won_matches_2015_2016 = int(len(matches_data[(matches_data[\"season\"] == \"2015/2016\") \n",
        "                                                 & (matches_data[\"team_long_name_home\"] == \"Arsenal\")\n",
        "                                                 & (matches_data[\"home_team_goal\"] > matches_data[\"away_team_goal\"])]) + \\\n",
        "                                len(matches_data[(matches_data[\"season\"] == \"2015/2016\") \n",
        "                                                 & (matches_data[\"team_long_name_away\"] == \"Arsenal\")\n",
        "                                                 & (matches_data[\"home_team_goal\"] < matches_data[\"away_team_goal\"])]))"
      ]
    },
    {
      "cell_type": "code",
      "execution_count": 51,
      "id": "214d9689",
      "metadata": {
        "id": "214d9689"
      },
      "outputs": [],
      "source": [
        "assert(isinstance(arsenal_won_matches_2015_2016, int))"
      ]
    },
    {
      "cell_type": "markdown",
      "id": "d70d5b23",
      "metadata": {
        "id": "d70d5b23"
      },
      "source": [
        "**Task 14 (2 points).** Find a team with the highest win rate in the **2015/2016** season. Win rate means won matches / all matches. If there are several teams with the highest win rate return the first by name in lexical order"
      ]
    },
    {
      "cell_type": "code",
      "execution_count": 95,
      "id": "01080321-b7d8-43d0-b46a-9a1649bdd267",
      "metadata": {
        "id": "01080321-b7d8-43d0-b46a-9a1649bdd267"
      },
      "outputs": [],
      "source": [
        "season_matches_data = matches_data[matches_data[\"season\"] == \"2015/2016\"]\n",
        "team_names_home = season_matches_data[\"team_long_name_home\"].unique()\n",
        "team_names_away = season_matches_data[\"team_long_name_away\"].unique()\n",
        "assert(team_names_home.sort() == team_names_away.sort())\n",
        "#They are the same"
      ]
    },
    {
      "cell_type": "code",
      "execution_count": 105,
      "id": "9e47efe0-3a9f-4f14-9f7e-4c15ab2af996",
      "metadata": {
        "colab": {
          "base_uri": "https://localhost:8080/"
        },
        "id": "9e47efe0-3a9f-4f14-9f7e-4c15ab2af996",
        "outputId": "9c6d6818-fd79-463e-92d2-4e3a305fd168"
      },
      "outputs": [
        {
          "name": "stderr",
          "output_type": "stream",
          "text": [
            "/usr/local/lib/python3.7/dist-packages/ipykernel_launcher.py:1: DeprecationWarning: The default dtype for empty Series will be 'object' instead of 'float64' in a future version. Specify a dtype explicitly to silence this warning.\n",
            "  \"\"\"Entry point for launching an IPython kernel.\n",
            "/usr/local/lib/python3.7/dist-packages/ipykernel_launcher.py:2: SettingWithCopyWarning: \n",
            "A value is trying to be set on a copy of a slice from a DataFrame.\n",
            "Try using .loc[row_indexer,col_indexer] = value instead\n",
            "\n",
            "See the caveats in the documentation: https://pandas.pydata.org/pandas-docs/stable/user_guide/indexing.html#returning-a-view-versus-a-copy\n",
            "  \n",
            "/usr/local/lib/python3.7/dist-packages/pandas/core/indexing.py:1773: SettingWithCopyWarning: \n",
            "A value is trying to be set on a copy of a slice from a DataFrame.\n",
            "Try using .loc[row_indexer,col_indexer] = value instead\n",
            "\n",
            "See the caveats in the documentation: https://pandas.pydata.org/pandas-docs/stable/user_guide/indexing.html#returning-a-view-versus-a-copy\n",
            "  self._setitem_single_column(ilocs[0], value, pi)\n"
          ]
        }
      ],
      "source": [
        "teams_winrate = pd.Series(index=team_names_home)\n",
        "season_matches_data[\"won_team\"] = \"Draw\"\n",
        "home_won = season_matches_data[\"home_team_goal\"] > season_matches_data[\"away_team_goal\"]\n",
        "away_won = season_matches_data[\"home_team_goal\"] < season_matches_data[\"away_team_goal\"]\n",
        "season_matches_data.loc[home_won, \"won_team\"] = season_matches_data[home_won][\"team_long_name_home\"]\n",
        "season_matches_data.loc[away_won, \"won_team\"] = season_matches_data[away_won][\"team_long_name_away\"]"
      ]
    },
    {
      "cell_type": "code",
      "execution_count": 106,
      "id": "FzlwtKMLParw",
      "metadata": {
        "colab": {
          "base_uri": "https://localhost:8080/"
        },
        "id": "FzlwtKMLParw",
        "outputId": "def5f973-47b6-4ecd-c6e9-7c09f16b46fb"
      },
      "outputs": [
        {
          "data": {
            "text/plain": [
              "Draw                   855\n",
              "Paris Saint-Germain     30\n",
              "FC Barcelona            29\n",
              "SL Benfica              29\n",
              "Juventus                29\n",
              "                      ... \n",
              "Hellas Verona            5\n",
              "Polonia Bytom            4\n",
              "SC Cambuur               3\n",
              "ES Troyes AC             3\n",
              "Aston Villa              3\n",
              "Name: won_team, Length: 189, dtype: int64"
            ]
          },
          "execution_count": 106,
          "metadata": {},
          "output_type": "execute_result"
        }
      ],
      "source": [
        "season_matches_data[\"won_team\"].value_counts()"
      ]
    },
    {
      "cell_type": "code",
      "execution_count": 108,
      "id": "flmMYH-TP2ir",
      "metadata": {
        "colab": {
          "base_uri": "https://localhost:8080/",
          "height": 90
        },
        "id": "flmMYH-TP2ir",
        "outputId": "8116a8c3-9f7f-46ae-a6e4-867ee7099045"
      },
      "outputs": [
        {
          "name": "stderr",
          "output_type": "stream",
          "text": [
            "/usr/local/lib/python3.7/dist-packages/ipykernel_launcher.py:1: DeprecationWarning: The default dtype for empty Series will be 'object' instead of 'float64' in a future version. Specify a dtype explicitly to silence this warning.\n",
            "  \"\"\"Entry point for launching an IPython kernel.\n"
          ]
        },
        {
          "data": {
            "application/vnd.google.colaboratory.intrinsic+json": {
              "type": "string"
            },
            "text/plain": [
              "'SL Benfica'"
            ]
          },
          "execution_count": 108,
          "metadata": {},
          "output_type": "execute_result"
        }
      ],
      "source": [
        "season_matches_team_winrates = pd.Series(index=team_names_home)\n",
        "for team in team_names_home:\n",
        "  season_matches_team_winrates[team] = len(season_matches_data[season_matches_data[\"won_team\"] == team]) / \\\n",
        "                                        len(season_matches_data[(season_matches_data[\"team_long_name_home\"] == team) | \n",
        "                                                                (season_matches_data[\"team_long_name_away\"] == team)])"
      ]
    },
    {
      "cell_type": "code",
      "execution_count": 110,
      "id": "b1aa7db0",
      "metadata": {
        "id": "b1aa7db0"
      },
      "outputs": [],
      "source": [
        "team_highest_winrate_2015_2016 = season_matches_team_winrates.idxmax()"
      ]
    },
    {
      "cell_type": "code",
      "execution_count": 111,
      "id": "b4cc8e46",
      "metadata": {
        "id": "b4cc8e46"
      },
      "outputs": [],
      "source": [
        "assert(isinstance(team_highest_winrate_2015_2016, str))"
      ]
    },
    {
      "cell_type": "markdown",
      "id": "f7f3b4f5",
      "metadata": {
        "id": "f7f3b4f5"
      },
      "source": [
        "**Task 15 (2 points).** Determine the team with the maximum days' gap between matches in **England Premier League 2010/2011 season**. Return number of days in that gap. <br>\n",
        "**Note**: a *gap* means the number of days between two consecutive matches of the same team."
      ]
    },
    {
      "cell_type": "code",
      "execution_count": 118,
      "id": "SqDMLUltRYVO",
      "metadata": {
        "id": "SqDMLUltRYVO"
      },
      "outputs": [],
      "source": [
        "matches_data_epl = matches_data[(matches_data[\"season\"] == \"2010/2011\") & (matches_data[\"name\"] == \"England Premier League\")]"
      ]
    },
    {
      "cell_type": "code",
      "execution_count": 119,
      "id": "mCTEh4NUR-1l",
      "metadata": {
        "colab": {
          "base_uri": "https://localhost:8080/"
        },
        "id": "mCTEh4NUR-1l",
        "outputId": "a3c34400-b8ec-41f8-a8b9-f345e62c1bbc"
      },
      "outputs": [
        {
          "name": "stderr",
          "output_type": "stream",
          "text": [
            "/usr/local/lib/python3.7/dist-packages/pandas/core/indexing.py:1773: SettingWithCopyWarning: \n",
            "A value is trying to be set on a copy of a slice from a DataFrame.\n",
            "Try using .loc[row_indexer,col_indexer] = value instead\n",
            "\n",
            "See the caveats in the documentation: https://pandas.pydata.org/pandas-docs/stable/user_guide/indexing.html#returning-a-view-versus-a-copy\n",
            "  self._setitem_single_column(ilocs[0], value, pi)\n"
          ]
        }
      ],
      "source": [
        "matches_data_epl.loc[:, \"date\"] = pd.to_datetime(matches_data_epl[\"date\"])"
      ]
    },
    {
      "cell_type": "code",
      "execution_count": 123,
      "id": "91Gr7WlUTcOA",
      "metadata": {
        "colab": {
          "base_uri": "https://localhost:8080/",
          "height": 530
        },
        "id": "91Gr7WlUTcOA",
        "outputId": "76386be6-d72a-411e-c045-51bb890b5f50"
      },
      "outputs": [
        {
          "data": {
            "text/html": [
              "\n",
              "  <div id=\"df-33e8fe23-b67b-41df-acd1-3a1b5fc9bfc3\">\n",
              "    <div class=\"colab-df-container\">\n",
              "      <div>\n",
              "<style scoped>\n",
              "    .dataframe tbody tr th:only-of-type {\n",
              "        vertical-align: middle;\n",
              "    }\n",
              "\n",
              "    .dataframe tbody tr th {\n",
              "        vertical-align: top;\n",
              "    }\n",
              "\n",
              "    .dataframe thead th {\n",
              "        text-align: right;\n",
              "    }\n",
              "</style>\n",
              "<table border=\"1\" class=\"dataframe\">\n",
              "  <thead>\n",
              "    <tr style=\"text-align: right;\">\n",
              "      <th></th>\n",
              "      <th>id_x</th>\n",
              "      <th>country_id</th>\n",
              "      <th>league_id</th>\n",
              "      <th>season</th>\n",
              "      <th>stage</th>\n",
              "      <th>date</th>\n",
              "      <th>match_api_id</th>\n",
              "      <th>home_team_api_id</th>\n",
              "      <th>away_team_api_id</th>\n",
              "      <th>home_team_goal</th>\n",
              "      <th>away_team_goal</th>\n",
              "      <th>home_player_X1</th>\n",
              "      <th>home_player_X2</th>\n",
              "      <th>home_player_X3</th>\n",
              "      <th>home_player_X4</th>\n",
              "      <th>home_player_X5</th>\n",
              "      <th>home_player_X6</th>\n",
              "      <th>home_player_X7</th>\n",
              "      <th>home_player_X8</th>\n",
              "      <th>home_player_X9</th>\n",
              "      <th>home_player_X10</th>\n",
              "      <th>home_player_X11</th>\n",
              "      <th>away_player_X1</th>\n",
              "      <th>away_player_X2</th>\n",
              "      <th>away_player_X3</th>\n",
              "      <th>away_player_X4</th>\n",
              "      <th>away_player_X5</th>\n",
              "      <th>away_player_X6</th>\n",
              "      <th>away_player_X7</th>\n",
              "      <th>away_player_X8</th>\n",
              "      <th>away_player_X9</th>\n",
              "      <th>away_player_X10</th>\n",
              "      <th>away_player_X11</th>\n",
              "      <th>home_player_Y1</th>\n",
              "      <th>home_player_Y2</th>\n",
              "      <th>home_player_Y3</th>\n",
              "      <th>home_player_Y4</th>\n",
              "      <th>home_player_Y5</th>\n",
              "      <th>home_player_Y6</th>\n",
              "      <th>home_player_Y7</th>\n",
              "      <th>home_player_Y8</th>\n",
              "      <th>home_player_Y9</th>\n",
              "      <th>home_player_Y10</th>\n",
              "      <th>home_player_Y11</th>\n",
              "      <th>away_player_Y1</th>\n",
              "      <th>away_player_Y2</th>\n",
              "      <th>away_player_Y3</th>\n",
              "      <th>away_player_Y4</th>\n",
              "      <th>away_player_Y5</th>\n",
              "      <th>away_player_Y6</th>\n",
              "      <th>away_player_Y7</th>\n",
              "      <th>away_player_Y8</th>\n",
              "      <th>away_player_Y9</th>\n",
              "      <th>away_player_Y10</th>\n",
              "      <th>away_player_Y11</th>\n",
              "      <th>home_player_1</th>\n",
              "      <th>home_player_2</th>\n",
              "      <th>home_player_3</th>\n",
              "      <th>home_player_4</th>\n",
              "      <th>home_player_5</th>\n",
              "      <th>home_player_6</th>\n",
              "      <th>home_player_7</th>\n",
              "      <th>home_player_8</th>\n",
              "      <th>home_player_9</th>\n",
              "      <th>home_player_10</th>\n",
              "      <th>home_player_11</th>\n",
              "      <th>away_player_1</th>\n",
              "      <th>away_player_2</th>\n",
              "      <th>away_player_3</th>\n",
              "      <th>away_player_4</th>\n",
              "      <th>away_player_5</th>\n",
              "      <th>away_player_6</th>\n",
              "      <th>away_player_7</th>\n",
              "      <th>away_player_8</th>\n",
              "      <th>away_player_9</th>\n",
              "      <th>away_player_10</th>\n",
              "      <th>away_player_11</th>\n",
              "      <th>goal</th>\n",
              "      <th>shoton</th>\n",
              "      <th>shotoff</th>\n",
              "      <th>foulcommit</th>\n",
              "      <th>card</th>\n",
              "      <th>cross</th>\n",
              "      <th>corner</th>\n",
              "      <th>possession</th>\n",
              "      <th>B365H</th>\n",
              "      <th>B365D</th>\n",
              "      <th>B365A</th>\n",
              "      <th>BWH</th>\n",
              "      <th>BWD</th>\n",
              "      <th>BWA</th>\n",
              "      <th>IWH</th>\n",
              "      <th>IWD</th>\n",
              "      <th>IWA</th>\n",
              "      <th>LBH</th>\n",
              "      <th>LBD</th>\n",
              "      <th>LBA</th>\n",
              "      <th>PSH</th>\n",
              "      <th>PSD</th>\n",
              "      <th>PSA</th>\n",
              "      <th>WHH</th>\n",
              "      <th>WHD</th>\n",
              "      <th>WHA</th>\n",
              "      <th>SJH</th>\n",
              "      <th>SJD</th>\n",
              "      <th>SJA</th>\n",
              "      <th>VCH</th>\n",
              "      <th>VCD</th>\n",
              "      <th>VCA</th>\n",
              "      <th>GBH</th>\n",
              "      <th>GBD</th>\n",
              "      <th>GBA</th>\n",
              "      <th>BSH</th>\n",
              "      <th>BSD</th>\n",
              "      <th>BSA</th>\n",
              "      <th>id_y</th>\n",
              "      <th>name</th>\n",
              "      <th>team_long_name_home</th>\n",
              "      <th>team_long_name_away</th>\n",
              "    </tr>\n",
              "  </thead>\n",
              "  <tbody>\n",
              "    <tr>\n",
              "      <th>2488</th>\n",
              "      <td>2489</td>\n",
              "      <td>1729</td>\n",
              "      <td>1729</td>\n",
              "      <td>2010/2011</td>\n",
              "      <td>1</td>\n",
              "      <td>2010-08-14</td>\n",
              "      <td>839796</td>\n",
              "      <td>10252</td>\n",
              "      <td>8654</td>\n",
              "      <td>3</td>\n",
              "      <td>0</td>\n",
              "      <td>1.0</td>\n",
              "      <td>2.0</td>\n",
              "      <td>4.0</td>\n",
              "      <td>6.0</td>\n",
              "      <td>8.0</td>\n",
              "      <td>2.0</td>\n",
              "      <td>4.0</td>\n",
              "      <td>6.0</td>\n",
              "      <td>8.0</td>\n",
              "      <td>5.0</td>\n",
              "      <td>5.0</td>\n",
              "      <td>1.0</td>\n",
              "      <td>2.0</td>\n",
              "      <td>4.0</td>\n",
              "      <td>6.0</td>\n",
              "      <td>8.0</td>\n",
              "      <td>1.0</td>\n",
              "      <td>3.0</td>\n",
              "      <td>5.0</td>\n",
              "      <td>7.0</td>\n",
              "      <td>9.0</td>\n",
              "      <td>5.0</td>\n",
              "      <td>1.0</td>\n",
              "      <td>3.0</td>\n",
              "      <td>3.0</td>\n",
              "      <td>3.0</td>\n",
              "      <td>3.0</td>\n",
              "      <td>7.0</td>\n",
              "      <td>7.0</td>\n",
              "      <td>7.0</td>\n",
              "      <td>7.0</td>\n",
              "      <td>9.0</td>\n",
              "      <td>11.0</td>\n",
              "      <td>1.0</td>\n",
              "      <td>3.0</td>\n",
              "      <td>3.0</td>\n",
              "      <td>3.0</td>\n",
              "      <td>3.0</td>\n",
              "      <td>7.0</td>\n",
              "      <td>7.0</td>\n",
              "      <td>7.0</td>\n",
              "      <td>7.0</td>\n",
              "      <td>7.0</td>\n",
              "      <td>11.0</td>\n",
              "      <td>30380.0</td>\n",
              "      <td>30357.0</td>\n",
              "      <td>161414.0</td>\n",
              "      <td>24211.0</td>\n",
              "      <td>24136.0</td>\n",
              "      <td>139671.0</td>\n",
              "      <td>30892.0</td>\n",
              "      <td>38609.0</td>\n",
              "      <td>38807.0</td>\n",
              "      <td>23354.0</td>\n",
              "      <td>26165.0</td>\n",
              "      <td>36374.0</td>\n",
              "      <td>35110.0</td>\n",
              "      <td>109897.0</td>\n",
              "      <td>23818.0</td>\n",
              "      <td>26348.0</td>\n",
              "      <td>36394.0</td>\n",
              "      <td>24223.0</td>\n",
              "      <td>37169.0</td>\n",
              "      <td>34590.0</td>\n",
              "      <td>30734.0</td>\n",
              "      <td>34543.0</td>\n",
              "      <td>&lt;goal&gt;&lt;value&gt;&lt;comment&gt;n&lt;/comment&gt;&lt;stats&gt;&lt;goals...</td>\n",
              "      <td>&lt;shoton&gt;&lt;value&gt;&lt;stats&gt;&lt;shoton&gt;1&lt;/shoton&gt;&lt;/stat...</td>\n",
              "      <td>&lt;shotoff&gt;&lt;value&gt;&lt;stats&gt;&lt;shotoff&gt;1&lt;/shotoff&gt;&lt;/s...</td>\n",
              "      <td>&lt;foulcommit&gt;&lt;value&gt;&lt;stats&gt;&lt;foulscommitted&gt;1&lt;/f...</td>\n",
              "      <td>&lt;card&gt;&lt;value&gt;&lt;comment&gt;y&lt;/comment&gt;&lt;stats&gt;&lt;ycard...</td>\n",
              "      <td>&lt;cross&gt;&lt;value&gt;&lt;stats&gt;&lt;corners&gt;1&lt;/corners&gt;&lt;/sta...</td>\n",
              "      <td>&lt;corner&gt;&lt;value&gt;&lt;stats&gt;&lt;corners&gt;1&lt;/corners&gt;&lt;/st...</td>\n",
              "      <td>&lt;possession&gt;&lt;value&gt;&lt;comment&gt;67&lt;/comment&gt;&lt;event...</td>\n",
              "      <td>2.00</td>\n",
              "      <td>3.30</td>\n",
              "      <td>4.0</td>\n",
              "      <td>1.85</td>\n",
              "      <td>3.40</td>\n",
              "      <td>4.10</td>\n",
              "      <td>1.80</td>\n",
              "      <td>3.4</td>\n",
              "      <td>4.0</td>\n",
              "      <td>1.83</td>\n",
              "      <td>3.4</td>\n",
              "      <td>4.33</td>\n",
              "      <td>NaN</td>\n",
              "      <td>NaN</td>\n",
              "      <td>NaN</td>\n",
              "      <td>1.91</td>\n",
              "      <td>3.25</td>\n",
              "      <td>4.33</td>\n",
              "      <td>2.00</td>\n",
              "      <td>3.4</td>\n",
              "      <td>3.75</td>\n",
              "      <td>2.00</td>\n",
              "      <td>3.25</td>\n",
              "      <td>4.20</td>\n",
              "      <td>2.00</td>\n",
              "      <td>3.25</td>\n",
              "      <td>3.75</td>\n",
              "      <td>1.80</td>\n",
              "      <td>3.40</td>\n",
              "      <td>4.33</td>\n",
              "      <td>1729</td>\n",
              "      <td>England Premier League</td>\n",
              "      <td>Aston Villa</td>\n",
              "      <td>West Ham United</td>\n",
              "    </tr>\n",
              "    <tr>\n",
              "      <th>2489</th>\n",
              "      <td>2490</td>\n",
              "      <td>1729</td>\n",
              "      <td>1729</td>\n",
              "      <td>2010/2011</td>\n",
              "      <td>1</td>\n",
              "      <td>2010-08-14</td>\n",
              "      <td>839797</td>\n",
              "      <td>8655</td>\n",
              "      <td>8668</td>\n",
              "      <td>1</td>\n",
              "      <td>0</td>\n",
              "      <td>1.0</td>\n",
              "      <td>2.0</td>\n",
              "      <td>4.0</td>\n",
              "      <td>6.0</td>\n",
              "      <td>8.0</td>\n",
              "      <td>1.0</td>\n",
              "      <td>3.0</td>\n",
              "      <td>5.0</td>\n",
              "      <td>7.0</td>\n",
              "      <td>9.0</td>\n",
              "      <td>5.0</td>\n",
              "      <td>1.0</td>\n",
              "      <td>2.0</td>\n",
              "      <td>4.0</td>\n",
              "      <td>6.0</td>\n",
              "      <td>8.0</td>\n",
              "      <td>2.0</td>\n",
              "      <td>4.0</td>\n",
              "      <td>6.0</td>\n",
              "      <td>8.0</td>\n",
              "      <td>5.0</td>\n",
              "      <td>5.0</td>\n",
              "      <td>1.0</td>\n",
              "      <td>3.0</td>\n",
              "      <td>3.0</td>\n",
              "      <td>3.0</td>\n",
              "      <td>3.0</td>\n",
              "      <td>7.0</td>\n",
              "      <td>7.0</td>\n",
              "      <td>7.0</td>\n",
              "      <td>7.0</td>\n",
              "      <td>7.0</td>\n",
              "      <td>11.0</td>\n",
              "      <td>1.0</td>\n",
              "      <td>3.0</td>\n",
              "      <td>3.0</td>\n",
              "      <td>3.0</td>\n",
              "      <td>3.0</td>\n",
              "      <td>7.0</td>\n",
              "      <td>7.0</td>\n",
              "      <td>7.0</td>\n",
              "      <td>7.0</td>\n",
              "      <td>9.0</td>\n",
              "      <td>11.0</td>\n",
              "      <td>30622.0</td>\n",
              "      <td>30658.0</td>\n",
              "      <td>19020.0</td>\n",
              "      <td>23921.0</td>\n",
              "      <td>30739.0</td>\n",
              "      <td>23927.0</td>\n",
              "      <td>186137.0</td>\n",
              "      <td>30342.0</td>\n",
              "      <td>23916.0</td>\n",
              "      <td>25667.0</td>\n",
              "      <td>21613.0</td>\n",
              "      <td>31465.0</td>\n",
              "      <td>30371.0</td>\n",
              "      <td>23268.0</td>\n",
              "      <td>24216.0</td>\n",
              "      <td>24846.0</td>\n",
              "      <td>24006.0</td>\n",
              "      <td>39618.0</td>\n",
              "      <td>24011.0</td>\n",
              "      <td>36012.0</td>\n",
              "      <td>30876.0</td>\n",
              "      <td>30735.0</td>\n",
              "      <td>&lt;goal&gt;&lt;value&gt;&lt;comment&gt;n&lt;/comment&gt;&lt;stats&gt;&lt;goals...</td>\n",
              "      <td>&lt;shoton&gt;&lt;value&gt;&lt;stats&gt;&lt;shoton&gt;1&lt;/shoton&gt;&lt;/stat...</td>\n",
              "      <td>&lt;shotoff&gt;&lt;value&gt;&lt;stats&gt;&lt;shotoff&gt;1&lt;/shotoff&gt;&lt;/s...</td>\n",
              "      <td>&lt;foulcommit&gt;&lt;value&gt;&lt;stats&gt;&lt;foulscommitted&gt;1&lt;/f...</td>\n",
              "      <td>&lt;card&gt;&lt;value&gt;&lt;comment&gt;y&lt;/comment&gt;&lt;stats&gt;&lt;ycard...</td>\n",
              "      <td>&lt;cross&gt;&lt;value&gt;&lt;stats&gt;&lt;crosses&gt;1&lt;/crosses&gt;&lt;/sta...</td>\n",
              "      <td>&lt;corner&gt;&lt;value&gt;&lt;stats&gt;&lt;corners&gt;1&lt;/corners&gt;&lt;/st...</td>\n",
              "      <td>&lt;possession&gt;&lt;value&gt;&lt;comment&gt;45&lt;/comment&gt;&lt;event...</td>\n",
              "      <td>2.88</td>\n",
              "      <td>3.25</td>\n",
              "      <td>2.5</td>\n",
              "      <td>2.75</td>\n",
              "      <td>3.25</td>\n",
              "      <td>2.45</td>\n",
              "      <td>2.55</td>\n",
              "      <td>3.2</td>\n",
              "      <td>2.5</td>\n",
              "      <td>2.80</td>\n",
              "      <td>3.3</td>\n",
              "      <td>2.50</td>\n",
              "      <td>NaN</td>\n",
              "      <td>NaN</td>\n",
              "      <td>NaN</td>\n",
              "      <td>2.88</td>\n",
              "      <td>3.20</td>\n",
              "      <td>2.50</td>\n",
              "      <td>2.75</td>\n",
              "      <td>3.3</td>\n",
              "      <td>2.50</td>\n",
              "      <td>3.10</td>\n",
              "      <td>3.30</td>\n",
              "      <td>2.38</td>\n",
              "      <td>2.90</td>\n",
              "      <td>3.20</td>\n",
              "      <td>2.40</td>\n",
              "      <td>2.70</td>\n",
              "      <td>3.25</td>\n",
              "      <td>2.50</td>\n",
              "      <td>1729</td>\n",
              "      <td>England Premier League</td>\n",
              "      <td>Blackburn Rovers</td>\n",
              "      <td>Everton</td>\n",
              "    </tr>\n",
              "    <tr>\n",
              "      <th>2490</th>\n",
              "      <td>2491</td>\n",
              "      <td>1729</td>\n",
              "      <td>1729</td>\n",
              "      <td>2010/2011</td>\n",
              "      <td>1</td>\n",
              "      <td>2010-08-14</td>\n",
              "      <td>839799</td>\n",
              "      <td>8559</td>\n",
              "      <td>9879</td>\n",
              "      <td>0</td>\n",
              "      <td>0</td>\n",
              "      <td>1.0</td>\n",
              "      <td>2.0</td>\n",
              "      <td>4.0</td>\n",
              "      <td>6.0</td>\n",
              "      <td>8.0</td>\n",
              "      <td>2.0</td>\n",
              "      <td>4.0</td>\n",
              "      <td>8.0</td>\n",
              "      <td>6.0</td>\n",
              "      <td>4.0</td>\n",
              "      <td>6.0</td>\n",
              "      <td>1.0</td>\n",
              "      <td>2.0</td>\n",
              "      <td>4.0</td>\n",
              "      <td>6.0</td>\n",
              "      <td>8.0</td>\n",
              "      <td>2.0</td>\n",
              "      <td>4.0</td>\n",
              "      <td>6.0</td>\n",
              "      <td>8.0</td>\n",
              "      <td>5.0</td>\n",
              "      <td>5.0</td>\n",
              "      <td>1.0</td>\n",
              "      <td>3.0</td>\n",
              "      <td>3.0</td>\n",
              "      <td>3.0</td>\n",
              "      <td>3.0</td>\n",
              "      <td>7.0</td>\n",
              "      <td>7.0</td>\n",
              "      <td>7.0</td>\n",
              "      <td>7.0</td>\n",
              "      <td>10.0</td>\n",
              "      <td>10.0</td>\n",
              "      <td>1.0</td>\n",
              "      <td>3.0</td>\n",
              "      <td>3.0</td>\n",
              "      <td>3.0</td>\n",
              "      <td>3.0</td>\n",
              "      <td>7.0</td>\n",
              "      <td>7.0</td>\n",
              "      <td>7.0</td>\n",
              "      <td>7.0</td>\n",
              "      <td>9.0</td>\n",
              "      <td>11.0</td>\n",
              "      <td>23932.0</td>\n",
              "      <td>26454.0</td>\n",
              "      <td>23783.0</td>\n",
              "      <td>40128.0</td>\n",
              "      <td>24728.0</td>\n",
              "      <td>130670.0</td>\n",
              "      <td>35532.0</td>\n",
              "      <td>33633.0</td>\n",
              "      <td>24455.0</td>\n",
              "      <td>34261.0</td>\n",
              "      <td>23934.0</td>\n",
              "      <td>35477.0</td>\n",
              "      <td>37266.0</td>\n",
              "      <td>23780.0</td>\n",
              "      <td>26777.0</td>\n",
              "      <td>33045.0</td>\n",
              "      <td>24020.0</td>\n",
              "      <td>25253.0</td>\n",
              "      <td>30338.0</td>\n",
              "      <td>34574.0</td>\n",
              "      <td>24737.0</td>\n",
              "      <td>24741.0</td>\n",
              "      <td>&lt;goal /&gt;</td>\n",
              "      <td>&lt;shoton&gt;&lt;value&gt;&lt;stats&gt;&lt;shoton&gt;1&lt;/shoton&gt;&lt;/stat...</td>\n",
              "      <td>&lt;shotoff&gt;&lt;value&gt;&lt;stats&gt;&lt;shotoff&gt;1&lt;/shotoff&gt;&lt;/s...</td>\n",
              "      <td>&lt;foulcommit&gt;&lt;value&gt;&lt;stats&gt;&lt;foulscommitted&gt;1&lt;/f...</td>\n",
              "      <td>&lt;card&gt;&lt;value&gt;&lt;comment&gt;y&lt;/comment&gt;&lt;stats&gt;&lt;ycard...</td>\n",
              "      <td>&lt;cross&gt;&lt;value&gt;&lt;stats&gt;&lt;crosses&gt;1&lt;/crosses&gt;&lt;/sta...</td>\n",
              "      <td>&lt;corner&gt;&lt;value&gt;&lt;stats&gt;&lt;corners&gt;1&lt;/corners&gt;&lt;/st...</td>\n",
              "      <td>&lt;possession&gt;&lt;value&gt;&lt;comment&gt;50&lt;/comment&gt;&lt;event...</td>\n",
              "      <td>2.20</td>\n",
              "      <td>3.30</td>\n",
              "      <td>3.4</td>\n",
              "      <td>2.15</td>\n",
              "      <td>3.25</td>\n",
              "      <td>3.25</td>\n",
              "      <td>2.20</td>\n",
              "      <td>3.2</td>\n",
              "      <td>3.0</td>\n",
              "      <td>2.25</td>\n",
              "      <td>3.3</td>\n",
              "      <td>3.20</td>\n",
              "      <td>NaN</td>\n",
              "      <td>NaN</td>\n",
              "      <td>NaN</td>\n",
              "      <td>2.15</td>\n",
              "      <td>3.20</td>\n",
              "      <td>3.50</td>\n",
              "      <td>2.30</td>\n",
              "      <td>3.4</td>\n",
              "      <td>3.00</td>\n",
              "      <td>2.20</td>\n",
              "      <td>3.30</td>\n",
              "      <td>3.40</td>\n",
              "      <td>2.20</td>\n",
              "      <td>3.25</td>\n",
              "      <td>3.20</td>\n",
              "      <td>2.20</td>\n",
              "      <td>3.20</td>\n",
              "      <td>3.25</td>\n",
              "      <td>1729</td>\n",
              "      <td>England Premier League</td>\n",
              "      <td>Bolton Wanderers</td>\n",
              "      <td>Fulham</td>\n",
              "    </tr>\n",
              "    <tr>\n",
              "      <th>2491</th>\n",
              "      <td>2492</td>\n",
              "      <td>1729</td>\n",
              "      <td>1729</td>\n",
              "      <td>2010/2011</td>\n",
              "      <td>1</td>\n",
              "      <td>2010-08-14</td>\n",
              "      <td>839800</td>\n",
              "      <td>8455</td>\n",
              "      <td>8659</td>\n",
              "      <td>6</td>\n",
              "      <td>0</td>\n",
              "      <td>1.0</td>\n",
              "      <td>2.0</td>\n",
              "      <td>4.0</td>\n",
              "      <td>6.0</td>\n",
              "      <td>8.0</td>\n",
              "      <td>3.0</td>\n",
              "      <td>5.0</td>\n",
              "      <td>7.0</td>\n",
              "      <td>3.0</td>\n",
              "      <td>5.0</td>\n",
              "      <td>7.0</td>\n",
              "      <td>1.0</td>\n",
              "      <td>2.0</td>\n",
              "      <td>4.0</td>\n",
              "      <td>6.0</td>\n",
              "      <td>8.0</td>\n",
              "      <td>2.0</td>\n",
              "      <td>4.0</td>\n",
              "      <td>6.0</td>\n",
              "      <td>8.0</td>\n",
              "      <td>5.0</td>\n",
              "      <td>5.0</td>\n",
              "      <td>1.0</td>\n",
              "      <td>3.0</td>\n",
              "      <td>3.0</td>\n",
              "      <td>3.0</td>\n",
              "      <td>3.0</td>\n",
              "      <td>7.0</td>\n",
              "      <td>7.0</td>\n",
              "      <td>7.0</td>\n",
              "      <td>10.0</td>\n",
              "      <td>10.0</td>\n",
              "      <td>10.0</td>\n",
              "      <td>1.0</td>\n",
              "      <td>3.0</td>\n",
              "      <td>3.0</td>\n",
              "      <td>3.0</td>\n",
              "      <td>3.0</td>\n",
              "      <td>7.0</td>\n",
              "      <td>7.0</td>\n",
              "      <td>7.0</td>\n",
              "      <td>7.0</td>\n",
              "      <td>9.0</td>\n",
              "      <td>11.0</td>\n",
              "      <td>30859.0</td>\n",
              "      <td>30856.0</td>\n",
              "      <td>26564.0</td>\n",
              "      <td>30627.0</td>\n",
              "      <td>38834.0</td>\n",
              "      <td>30631.0</td>\n",
              "      <td>32345.0</td>\n",
              "      <td>30675.0</td>\n",
              "      <td>37804.0</td>\n",
              "      <td>30822.0</td>\n",
              "      <td>30679.0</td>\n",
              "      <td>36373.0</td>\n",
              "      <td>49885.0</td>\n",
              "      <td>37428.0</td>\n",
              "      <td>30903.0</td>\n",
              "      <td>25922.0</td>\n",
              "      <td>24171.0</td>\n",
              "      <td>71502.0</td>\n",
              "      <td>23257.0</td>\n",
              "      <td>23954.0</td>\n",
              "      <td>32734.0</td>\n",
              "      <td>32570.0</td>\n",
              "      <td>&lt;goal&gt;&lt;value&gt;&lt;comment&gt;n&lt;/comment&gt;&lt;stats&gt;&lt;goals...</td>\n",
              "      <td>&lt;shoton&gt;&lt;value&gt;&lt;stats&gt;&lt;shoton&gt;1&lt;/shoton&gt;&lt;/stat...</td>\n",
              "      <td>&lt;shotoff&gt;&lt;value&gt;&lt;stats&gt;&lt;shotoff&gt;1&lt;/shotoff&gt;&lt;/s...</td>\n",
              "      <td>&lt;foulcommit&gt;&lt;value&gt;&lt;stats&gt;&lt;foulscommitted&gt;1&lt;/f...</td>\n",
              "      <td>&lt;card&gt;&lt;value&gt;&lt;comment&gt;y&lt;/comment&gt;&lt;stats&gt;&lt;ycard...</td>\n",
              "      <td>&lt;cross&gt;&lt;value&gt;&lt;stats&gt;&lt;crosses&gt;1&lt;/crosses&gt;&lt;/sta...</td>\n",
              "      <td>&lt;corner&gt;&lt;value&gt;&lt;stats&gt;&lt;corners&gt;1&lt;/corners&gt;&lt;/st...</td>\n",
              "      <td>&lt;possession&gt;&lt;value&gt;&lt;comment&gt;56&lt;/comment&gt;&lt;event...</td>\n",
              "      <td>1.17</td>\n",
              "      <td>7.00</td>\n",
              "      <td>17.0</td>\n",
              "      <td>1.15</td>\n",
              "      <td>6.75</td>\n",
              "      <td>16.00</td>\n",
              "      <td>1.15</td>\n",
              "      <td>6.2</td>\n",
              "      <td>14.0</td>\n",
              "      <td>1.14</td>\n",
              "      <td>7.5</td>\n",
              "      <td>19.00</td>\n",
              "      <td>NaN</td>\n",
              "      <td>NaN</td>\n",
              "      <td>NaN</td>\n",
              "      <td>1.17</td>\n",
              "      <td>6.50</td>\n",
              "      <td>19.00</td>\n",
              "      <td>1.18</td>\n",
              "      <td>6.5</td>\n",
              "      <td>15.00</td>\n",
              "      <td>1.17</td>\n",
              "      <td>7.50</td>\n",
              "      <td>19.00</td>\n",
              "      <td>1.16</td>\n",
              "      <td>6.75</td>\n",
              "      <td>16.00</td>\n",
              "      <td>1.17</td>\n",
              "      <td>6.50</td>\n",
              "      <td>15.00</td>\n",
              "      <td>1729</td>\n",
              "      <td>England Premier League</td>\n",
              "      <td>Chelsea</td>\n",
              "      <td>West Bromwich Albion</td>\n",
              "    </tr>\n",
              "    <tr>\n",
              "      <th>2494</th>\n",
              "      <td>2495</td>\n",
              "      <td>1729</td>\n",
              "      <td>1729</td>\n",
              "      <td>2010/2011</td>\n",
              "      <td>1</td>\n",
              "      <td>2010-08-14</td>\n",
              "      <td>839803</td>\n",
              "      <td>8472</td>\n",
              "      <td>8658</td>\n",
              "      <td>2</td>\n",
              "      <td>2</td>\n",
              "      <td>1.0</td>\n",
              "      <td>2.0</td>\n",
              "      <td>4.0</td>\n",
              "      <td>6.0</td>\n",
              "      <td>8.0</td>\n",
              "      <td>2.0</td>\n",
              "      <td>4.0</td>\n",
              "      <td>6.0</td>\n",
              "      <td>8.0</td>\n",
              "      <td>4.0</td>\n",
              "      <td>6.0</td>\n",
              "      <td>1.0</td>\n",
              "      <td>2.0</td>\n",
              "      <td>4.0</td>\n",
              "      <td>6.0</td>\n",
              "      <td>8.0</td>\n",
              "      <td>2.0</td>\n",
              "      <td>4.0</td>\n",
              "      <td>6.0</td>\n",
              "      <td>8.0</td>\n",
              "      <td>4.0</td>\n",
              "      <td>6.0</td>\n",
              "      <td>1.0</td>\n",
              "      <td>3.0</td>\n",
              "      <td>3.0</td>\n",
              "      <td>3.0</td>\n",
              "      <td>3.0</td>\n",
              "      <td>7.0</td>\n",
              "      <td>7.0</td>\n",
              "      <td>7.0</td>\n",
              "      <td>7.0</td>\n",
              "      <td>10.0</td>\n",
              "      <td>10.0</td>\n",
              "      <td>1.0</td>\n",
              "      <td>3.0</td>\n",
              "      <td>3.0</td>\n",
              "      <td>3.0</td>\n",
              "      <td>3.0</td>\n",
              "      <td>7.0</td>\n",
              "      <td>7.0</td>\n",
              "      <td>7.0</td>\n",
              "      <td>7.0</td>\n",
              "      <td>10.0</td>\n",
              "      <td>10.0</td>\n",
              "      <td>37868.0</td>\n",
              "      <td>24209.0</td>\n",
              "      <td>24230.0</td>\n",
              "      <td>30885.0</td>\n",
              "      <td>30352.0</td>\n",
              "      <td>111930.0</td>\n",
              "      <td>25150.0</td>\n",
              "      <td>156008.0</td>\n",
              "      <td>38802.0</td>\n",
              "      <td>24157.0</td>\n",
              "      <td>23949.0</td>\n",
              "      <td>24147.0</td>\n",
              "      <td>24226.0</td>\n",
              "      <td>23837.0</td>\n",
              "      <td>34193.0</td>\n",
              "      <td>23787.0</td>\n",
              "      <td>35443.0</td>\n",
              "      <td>33049.0</td>\n",
              "      <td>24978.0</td>\n",
              "      <td>77704.0</td>\n",
              "      <td>31953.0</td>\n",
              "      <td>26559.0</td>\n",
              "      <td>&lt;goal&gt;&lt;value&gt;&lt;comment&gt;p&lt;/comment&gt;&lt;stats&gt;&lt;penal...</td>\n",
              "      <td>&lt;shoton&gt;&lt;value&gt;&lt;stats&gt;&lt;shoton&gt;1&lt;/shoton&gt;&lt;/stat...</td>\n",
              "      <td>&lt;shotoff&gt;&lt;value&gt;&lt;stats&gt;&lt;shotoff&gt;1&lt;/shotoff&gt;&lt;/s...</td>\n",
              "      <td>&lt;foulcommit&gt;&lt;value&gt;&lt;stats&gt;&lt;foulscommitted&gt;1&lt;/f...</td>\n",
              "      <td>&lt;card&gt;&lt;value&gt;&lt;comment&gt;y&lt;/comment&gt;&lt;stats&gt;&lt;ycard...</td>\n",
              "      <td>&lt;cross&gt;&lt;value&gt;&lt;stats&gt;&lt;crosses&gt;1&lt;/crosses&gt;&lt;/sta...</td>\n",
              "      <td>&lt;corner&gt;&lt;value&gt;&lt;stats&gt;&lt;corners&gt;1&lt;/corners&gt;&lt;/st...</td>\n",
              "      <td>&lt;possession&gt;&lt;value&gt;&lt;comment&gt;53&lt;/comment&gt;&lt;event...</td>\n",
              "      <td>2.10</td>\n",
              "      <td>3.30</td>\n",
              "      <td>3.6</td>\n",
              "      <td>2.15</td>\n",
              "      <td>3.20</td>\n",
              "      <td>3.30</td>\n",
              "      <td>2.10</td>\n",
              "      <td>3.2</td>\n",
              "      <td>3.2</td>\n",
              "      <td>2.10</td>\n",
              "      <td>3.3</td>\n",
              "      <td>3.50</td>\n",
              "      <td>NaN</td>\n",
              "      <td>NaN</td>\n",
              "      <td>NaN</td>\n",
              "      <td>2.15</td>\n",
              "      <td>3.20</td>\n",
              "      <td>3.50</td>\n",
              "      <td>2.20</td>\n",
              "      <td>3.4</td>\n",
              "      <td>3.20</td>\n",
              "      <td>2.20</td>\n",
              "      <td>3.25</td>\n",
              "      <td>3.50</td>\n",
              "      <td>2.15</td>\n",
              "      <td>3.25</td>\n",
              "      <td>3.30</td>\n",
              "      <td>2.10</td>\n",
              "      <td>3.25</td>\n",
              "      <td>3.40</td>\n",
              "      <td>1729</td>\n",
              "      <td>England Premier League</td>\n",
              "      <td>Sunderland</td>\n",
              "      <td>Birmingham City</td>\n",
              "    </tr>\n",
              "  </tbody>\n",
              "</table>\n",
              "</div>\n",
              "      <button class=\"colab-df-convert\" onclick=\"convertToInteractive('df-33e8fe23-b67b-41df-acd1-3a1b5fc9bfc3')\"\n",
              "              title=\"Convert this dataframe to an interactive table.\"\n",
              "              style=\"display:none;\">\n",
              "        \n",
              "  <svg xmlns=\"http://www.w3.org/2000/svg\" height=\"24px\"viewBox=\"0 0 24 24\"\n",
              "       width=\"24px\">\n",
              "    <path d=\"M0 0h24v24H0V0z\" fill=\"none\"/>\n",
              "    <path d=\"M18.56 5.44l.94 2.06.94-2.06 2.06-.94-2.06-.94-.94-2.06-.94 2.06-2.06.94zm-11 1L8.5 8.5l.94-2.06 2.06-.94-2.06-.94L8.5 2.5l-.94 2.06-2.06.94zm10 10l.94 2.06.94-2.06 2.06-.94-2.06-.94-.94-2.06-.94 2.06-2.06.94z\"/><path d=\"M17.41 7.96l-1.37-1.37c-.4-.4-.92-.59-1.43-.59-.52 0-1.04.2-1.43.59L10.3 9.45l-7.72 7.72c-.78.78-.78 2.05 0 2.83L4 21.41c.39.39.9.59 1.41.59.51 0 1.02-.2 1.41-.59l7.78-7.78 2.81-2.81c.8-.78.8-2.07 0-2.86zM5.41 20L4 18.59l7.72-7.72 1.47 1.35L5.41 20z\"/>\n",
              "  </svg>\n",
              "      </button>\n",
              "      \n",
              "  <style>\n",
              "    .colab-df-container {\n",
              "      display:flex;\n",
              "      flex-wrap:wrap;\n",
              "      gap: 12px;\n",
              "    }\n",
              "\n",
              "    .colab-df-convert {\n",
              "      background-color: #E8F0FE;\n",
              "      border: none;\n",
              "      border-radius: 50%;\n",
              "      cursor: pointer;\n",
              "      display: none;\n",
              "      fill: #1967D2;\n",
              "      height: 32px;\n",
              "      padding: 0 0 0 0;\n",
              "      width: 32px;\n",
              "    }\n",
              "\n",
              "    .colab-df-convert:hover {\n",
              "      background-color: #E2EBFA;\n",
              "      box-shadow: 0px 1px 2px rgba(60, 64, 67, 0.3), 0px 1px 3px 1px rgba(60, 64, 67, 0.15);\n",
              "      fill: #174EA6;\n",
              "    }\n",
              "\n",
              "    [theme=dark] .colab-df-convert {\n",
              "      background-color: #3B4455;\n",
              "      fill: #D2E3FC;\n",
              "    }\n",
              "\n",
              "    [theme=dark] .colab-df-convert:hover {\n",
              "      background-color: #434B5C;\n",
              "      box-shadow: 0px 1px 3px 1px rgba(0, 0, 0, 0.15);\n",
              "      filter: drop-shadow(0px 1px 2px rgba(0, 0, 0, 0.3));\n",
              "      fill: #FFFFFF;\n",
              "    }\n",
              "  </style>\n",
              "\n",
              "      <script>\n",
              "        const buttonEl =\n",
              "          document.querySelector('#df-33e8fe23-b67b-41df-acd1-3a1b5fc9bfc3 button.colab-df-convert');\n",
              "        buttonEl.style.display =\n",
              "          google.colab.kernel.accessAllowed ? 'block' : 'none';\n",
              "\n",
              "        async function convertToInteractive(key) {\n",
              "          const element = document.querySelector('#df-33e8fe23-b67b-41df-acd1-3a1b5fc9bfc3');\n",
              "          const dataTable =\n",
              "            await google.colab.kernel.invokeFunction('convertToInteractive',\n",
              "                                                     [key], {});\n",
              "          if (!dataTable) return;\n",
              "\n",
              "          const docLinkHtml = 'Like what you see? Visit the ' +\n",
              "            '<a target=\"_blank\" href=https://colab.research.google.com/notebooks/data_table.ipynb>data table notebook</a>'\n",
              "            + ' to learn more about interactive tables.';\n",
              "          element.innerHTML = '';\n",
              "          dataTable['output_type'] = 'display_data';\n",
              "          await google.colab.output.renderOutput(dataTable, element);\n",
              "          const docLink = document.createElement('div');\n",
              "          docLink.innerHTML = docLinkHtml;\n",
              "          element.appendChild(docLink);\n",
              "        }\n",
              "      </script>\n",
              "    </div>\n",
              "  </div>\n",
              "  "
            ],
            "text/plain": [
              "      id_x  country_id  league_id     season  stage       date  match_api_id  \\\n",
              "2488  2489        1729       1729  2010/2011      1 2010-08-14        839796   \n",
              "2489  2490        1729       1729  2010/2011      1 2010-08-14        839797   \n",
              "2490  2491        1729       1729  2010/2011      1 2010-08-14        839799   \n",
              "2491  2492        1729       1729  2010/2011      1 2010-08-14        839800   \n",
              "2494  2495        1729       1729  2010/2011      1 2010-08-14        839803   \n",
              "\n",
              "      home_team_api_id  away_team_api_id  home_team_goal  away_team_goal  \\\n",
              "2488             10252              8654               3               0   \n",
              "2489              8655              8668               1               0   \n",
              "2490              8559              9879               0               0   \n",
              "2491              8455              8659               6               0   \n",
              "2494              8472              8658               2               2   \n",
              "\n",
              "      home_player_X1  home_player_X2  home_player_X3  home_player_X4  \\\n",
              "2488             1.0             2.0             4.0             6.0   \n",
              "2489             1.0             2.0             4.0             6.0   \n",
              "2490             1.0             2.0             4.0             6.0   \n",
              "2491             1.0             2.0             4.0             6.0   \n",
              "2494             1.0             2.0             4.0             6.0   \n",
              "\n",
              "      home_player_X5  home_player_X6  home_player_X7  home_player_X8  \\\n",
              "2488             8.0             2.0             4.0             6.0   \n",
              "2489             8.0             1.0             3.0             5.0   \n",
              "2490             8.0             2.0             4.0             8.0   \n",
              "2491             8.0             3.0             5.0             7.0   \n",
              "2494             8.0             2.0             4.0             6.0   \n",
              "\n",
              "      home_player_X9  home_player_X10  home_player_X11  away_player_X1  \\\n",
              "2488             8.0              5.0              5.0             1.0   \n",
              "2489             7.0              9.0              5.0             1.0   \n",
              "2490             6.0              4.0              6.0             1.0   \n",
              "2491             3.0              5.0              7.0             1.0   \n",
              "2494             8.0              4.0              6.0             1.0   \n",
              "\n",
              "      away_player_X2  away_player_X3  away_player_X4  away_player_X5  \\\n",
              "2488             2.0             4.0             6.0             8.0   \n",
              "2489             2.0             4.0             6.0             8.0   \n",
              "2490             2.0             4.0             6.0             8.0   \n",
              "2491             2.0             4.0             6.0             8.0   \n",
              "2494             2.0             4.0             6.0             8.0   \n",
              "\n",
              "      away_player_X6  away_player_X7  away_player_X8  away_player_X9  \\\n",
              "2488             1.0             3.0             5.0             7.0   \n",
              "2489             2.0             4.0             6.0             8.0   \n",
              "2490             2.0             4.0             6.0             8.0   \n",
              "2491             2.0             4.0             6.0             8.0   \n",
              "2494             2.0             4.0             6.0             8.0   \n",
              "\n",
              "      away_player_X10  away_player_X11  home_player_Y1  home_player_Y2  \\\n",
              "2488              9.0              5.0             1.0             3.0   \n",
              "2489              5.0              5.0             1.0             3.0   \n",
              "2490              5.0              5.0             1.0             3.0   \n",
              "2491              5.0              5.0             1.0             3.0   \n",
              "2494              4.0              6.0             1.0             3.0   \n",
              "\n",
              "      home_player_Y3  home_player_Y4  home_player_Y5  home_player_Y6  \\\n",
              "2488             3.0             3.0             3.0             7.0   \n",
              "2489             3.0             3.0             3.0             7.0   \n",
              "2490             3.0             3.0             3.0             7.0   \n",
              "2491             3.0             3.0             3.0             7.0   \n",
              "2494             3.0             3.0             3.0             7.0   \n",
              "\n",
              "      home_player_Y7  home_player_Y8  home_player_Y9  home_player_Y10  \\\n",
              "2488             7.0             7.0             7.0              9.0   \n",
              "2489             7.0             7.0             7.0              7.0   \n",
              "2490             7.0             7.0             7.0             10.0   \n",
              "2491             7.0             7.0            10.0             10.0   \n",
              "2494             7.0             7.0             7.0             10.0   \n",
              "\n",
              "      home_player_Y11  away_player_Y1  away_player_Y2  away_player_Y3  \\\n",
              "2488             11.0             1.0             3.0             3.0   \n",
              "2489             11.0             1.0             3.0             3.0   \n",
              "2490             10.0             1.0             3.0             3.0   \n",
              "2491             10.0             1.0             3.0             3.0   \n",
              "2494             10.0             1.0             3.0             3.0   \n",
              "\n",
              "      away_player_Y4  away_player_Y5  away_player_Y6  away_player_Y7  \\\n",
              "2488             3.0             3.0             7.0             7.0   \n",
              "2489             3.0             3.0             7.0             7.0   \n",
              "2490             3.0             3.0             7.0             7.0   \n",
              "2491             3.0             3.0             7.0             7.0   \n",
              "2494             3.0             3.0             7.0             7.0   \n",
              "\n",
              "      away_player_Y8  away_player_Y9  away_player_Y10  away_player_Y11  \\\n",
              "2488             7.0             7.0              7.0             11.0   \n",
              "2489             7.0             7.0              9.0             11.0   \n",
              "2490             7.0             7.0              9.0             11.0   \n",
              "2491             7.0             7.0              9.0             11.0   \n",
              "2494             7.0             7.0             10.0             10.0   \n",
              "\n",
              "      home_player_1  home_player_2  home_player_3  home_player_4  \\\n",
              "2488        30380.0        30357.0       161414.0        24211.0   \n",
              "2489        30622.0        30658.0        19020.0        23921.0   \n",
              "2490        23932.0        26454.0        23783.0        40128.0   \n",
              "2491        30859.0        30856.0        26564.0        30627.0   \n",
              "2494        37868.0        24209.0        24230.0        30885.0   \n",
              "\n",
              "      home_player_5  home_player_6  home_player_7  home_player_8  \\\n",
              "2488        24136.0       139671.0        30892.0        38609.0   \n",
              "2489        30739.0        23927.0       186137.0        30342.0   \n",
              "2490        24728.0       130670.0        35532.0        33633.0   \n",
              "2491        38834.0        30631.0        32345.0        30675.0   \n",
              "2494        30352.0       111930.0        25150.0       156008.0   \n",
              "\n",
              "      home_player_9  home_player_10  home_player_11  away_player_1  \\\n",
              "2488        38807.0         23354.0         26165.0        36374.0   \n",
              "2489        23916.0         25667.0         21613.0        31465.0   \n",
              "2490        24455.0         34261.0         23934.0        35477.0   \n",
              "2491        37804.0         30822.0         30679.0        36373.0   \n",
              "2494        38802.0         24157.0         23949.0        24147.0   \n",
              "\n",
              "      away_player_2  away_player_3  away_player_4  away_player_5  \\\n",
              "2488        35110.0       109897.0        23818.0        26348.0   \n",
              "2489        30371.0        23268.0        24216.0        24846.0   \n",
              "2490        37266.0        23780.0        26777.0        33045.0   \n",
              "2491        49885.0        37428.0        30903.0        25922.0   \n",
              "2494        24226.0        23837.0        34193.0        23787.0   \n",
              "\n",
              "      away_player_6  away_player_7  away_player_8  away_player_9  \\\n",
              "2488        36394.0        24223.0        37169.0        34590.0   \n",
              "2489        24006.0        39618.0        24011.0        36012.0   \n",
              "2490        24020.0        25253.0        30338.0        34574.0   \n",
              "2491        24171.0        71502.0        23257.0        23954.0   \n",
              "2494        35443.0        33049.0        24978.0        77704.0   \n",
              "\n",
              "      away_player_10  away_player_11  \\\n",
              "2488         30734.0         34543.0   \n",
              "2489         30876.0         30735.0   \n",
              "2490         24737.0         24741.0   \n",
              "2491         32734.0         32570.0   \n",
              "2494         31953.0         26559.0   \n",
              "\n",
              "                                                   goal  \\\n",
              "2488  <goal><value><comment>n</comment><stats><goals...   \n",
              "2489  <goal><value><comment>n</comment><stats><goals...   \n",
              "2490                                           <goal />   \n",
              "2491  <goal><value><comment>n</comment><stats><goals...   \n",
              "2494  <goal><value><comment>p</comment><stats><penal...   \n",
              "\n",
              "                                                 shoton  \\\n",
              "2488  <shoton><value><stats><shoton>1</shoton></stat...   \n",
              "2489  <shoton><value><stats><shoton>1</shoton></stat...   \n",
              "2490  <shoton><value><stats><shoton>1</shoton></stat...   \n",
              "2491  <shoton><value><stats><shoton>1</shoton></stat...   \n",
              "2494  <shoton><value><stats><shoton>1</shoton></stat...   \n",
              "\n",
              "                                                shotoff  \\\n",
              "2488  <shotoff><value><stats><shotoff>1</shotoff></s...   \n",
              "2489  <shotoff><value><stats><shotoff>1</shotoff></s...   \n",
              "2490  <shotoff><value><stats><shotoff>1</shotoff></s...   \n",
              "2491  <shotoff><value><stats><shotoff>1</shotoff></s...   \n",
              "2494  <shotoff><value><stats><shotoff>1</shotoff></s...   \n",
              "\n",
              "                                             foulcommit  \\\n",
              "2488  <foulcommit><value><stats><foulscommitted>1</f...   \n",
              "2489  <foulcommit><value><stats><foulscommitted>1</f...   \n",
              "2490  <foulcommit><value><stats><foulscommitted>1</f...   \n",
              "2491  <foulcommit><value><stats><foulscommitted>1</f...   \n",
              "2494  <foulcommit><value><stats><foulscommitted>1</f...   \n",
              "\n",
              "                                                   card  \\\n",
              "2488  <card><value><comment>y</comment><stats><ycard...   \n",
              "2489  <card><value><comment>y</comment><stats><ycard...   \n",
              "2490  <card><value><comment>y</comment><stats><ycard...   \n",
              "2491  <card><value><comment>y</comment><stats><ycard...   \n",
              "2494  <card><value><comment>y</comment><stats><ycard...   \n",
              "\n",
              "                                                  cross  \\\n",
              "2488  <cross><value><stats><corners>1</corners></sta...   \n",
              "2489  <cross><value><stats><crosses>1</crosses></sta...   \n",
              "2490  <cross><value><stats><crosses>1</crosses></sta...   \n",
              "2491  <cross><value><stats><crosses>1</crosses></sta...   \n",
              "2494  <cross><value><stats><crosses>1</crosses></sta...   \n",
              "\n",
              "                                                 corner  \\\n",
              "2488  <corner><value><stats><corners>1</corners></st...   \n",
              "2489  <corner><value><stats><corners>1</corners></st...   \n",
              "2490  <corner><value><stats><corners>1</corners></st...   \n",
              "2491  <corner><value><stats><corners>1</corners></st...   \n",
              "2494  <corner><value><stats><corners>1</corners></st...   \n",
              "\n",
              "                                             possession  B365H  B365D  B365A  \\\n",
              "2488  <possession><value><comment>67</comment><event...   2.00   3.30    4.0   \n",
              "2489  <possession><value><comment>45</comment><event...   2.88   3.25    2.5   \n",
              "2490  <possession><value><comment>50</comment><event...   2.20   3.30    3.4   \n",
              "2491  <possession><value><comment>56</comment><event...   1.17   7.00   17.0   \n",
              "2494  <possession><value><comment>53</comment><event...   2.10   3.30    3.6   \n",
              "\n",
              "       BWH   BWD    BWA   IWH  IWD   IWA   LBH  LBD    LBA  PSH  PSD  PSA  \\\n",
              "2488  1.85  3.40   4.10  1.80  3.4   4.0  1.83  3.4   4.33  NaN  NaN  NaN   \n",
              "2489  2.75  3.25   2.45  2.55  3.2   2.5  2.80  3.3   2.50  NaN  NaN  NaN   \n",
              "2490  2.15  3.25   3.25  2.20  3.2   3.0  2.25  3.3   3.20  NaN  NaN  NaN   \n",
              "2491  1.15  6.75  16.00  1.15  6.2  14.0  1.14  7.5  19.00  NaN  NaN  NaN   \n",
              "2494  2.15  3.20   3.30  2.10  3.2   3.2  2.10  3.3   3.50  NaN  NaN  NaN   \n",
              "\n",
              "       WHH   WHD    WHA   SJH  SJD    SJA   VCH   VCD    VCA   GBH   GBD  \\\n",
              "2488  1.91  3.25   4.33  2.00  3.4   3.75  2.00  3.25   4.20  2.00  3.25   \n",
              "2489  2.88  3.20   2.50  2.75  3.3   2.50  3.10  3.30   2.38  2.90  3.20   \n",
              "2490  2.15  3.20   3.50  2.30  3.4   3.00  2.20  3.30   3.40  2.20  3.25   \n",
              "2491  1.17  6.50  19.00  1.18  6.5  15.00  1.17  7.50  19.00  1.16  6.75   \n",
              "2494  2.15  3.20   3.50  2.20  3.4   3.20  2.20  3.25   3.50  2.15  3.25   \n",
              "\n",
              "        GBA   BSH   BSD    BSA  id_y                    name  \\\n",
              "2488   3.75  1.80  3.40   4.33  1729  England Premier League   \n",
              "2489   2.40  2.70  3.25   2.50  1729  England Premier League   \n",
              "2490   3.20  2.20  3.20   3.25  1729  England Premier League   \n",
              "2491  16.00  1.17  6.50  15.00  1729  England Premier League   \n",
              "2494   3.30  2.10  3.25   3.40  1729  England Premier League   \n",
              "\n",
              "     team_long_name_home   team_long_name_away  \n",
              "2488         Aston Villa       West Ham United  \n",
              "2489    Blackburn Rovers               Everton  \n",
              "2490    Bolton Wanderers                Fulham  \n",
              "2491             Chelsea  West Bromwich Albion  \n",
              "2494          Sunderland       Birmingham City  "
            ]
          },
          "execution_count": 123,
          "metadata": {},
          "output_type": "execute_result"
        }
      ],
      "source": [
        "matches_data_epl = matches_data_epl.sort_values(by=\"date\")\n",
        "matches_data_epl.head()"
      ]
    },
    {
      "cell_type": "code",
      "execution_count": 125,
      "id": "ft6x0W8aVcab",
      "metadata": {
        "id": "ft6x0W8aVcab"
      },
      "outputs": [],
      "source": [
        "home_teams = matches_data_epl[\"team_long_name_home\"].unique()\n",
        "away_teams = matches_data_epl[\"team_long_name_away\"].unique()\n",
        "assert(home_teams.sort() == away_teams.sort())"
      ]
    },
    {
      "cell_type": "code",
      "execution_count": 133,
      "id": "UebfO_6ZWDCX",
      "metadata": {
        "id": "UebfO_6ZWDCX"
      },
      "outputs": [],
      "source": [
        "match_dates_for_teams = {}\n",
        "for team in home_teams:\n",
        "  match_dates_for_teams[team] = matches_data_epl[(matches_data_epl[\"team_long_name_home\"] == team) | \n",
        "                                                 (matches_data_epl[\"team_long_name_away\"] == team)][\"date\"]\n",
        "#match_dates_for_teams"
      ]
    },
    {
      "cell_type": "code",
      "execution_count": 145,
      "id": "LVUQ7UWVXEF7",
      "metadata": {
        "colab": {
          "base_uri": "https://localhost:8080/"
        },
        "id": "LVUQ7UWVXEF7",
        "outputId": "acece42c-747a-4ac7-b439-f7bacf1bed03"
      },
      "outputs": [
        {
          "data": {
            "text/plain": [
              "18"
            ]
          },
          "execution_count": 145,
          "metadata": {},
          "output_type": "execute_result"
        }
      ],
      "source": [
        "team_differences = {}\n",
        "for team, dates in match_dates_for_teams.items():\n",
        "  team_differences[team] = dates.diff()\n",
        "\n",
        "team_max_differences = {}\n",
        "for team, diffs in team_differences.items():\n",
        "  team_max_differences[team] = diffs.max()\n"
      ]
    },
    {
      "cell_type": "code",
      "execution_count": 146,
      "id": "a4c33e5f",
      "metadata": {
        "id": "a4c33e5f"
      },
      "outputs": [],
      "source": [
        "highest_gap_england_2010_2011 = max(list(team_max_differences.items()), key=lambda x: x[1])[1].days"
      ]
    },
    {
      "cell_type": "code",
      "execution_count": 147,
      "id": "5f7aa84e",
      "metadata": {
        "id": "5f7aa84e"
      },
      "outputs": [],
      "source": [
        "assert(isinstance(highest_gap_england_2010_2011, int))"
      ]
    },
    {
      "cell_type": "markdown",
      "id": "acecc77f",
      "metadata": {
        "id": "acecc77f"
      },
      "source": [
        "### Warning! Do not change anything in the area below"
      ]
    },
    {
      "cell_type": "code",
      "execution_count": null,
      "id": "94c3b9be",
      "metadata": {
        "id": "94c3b9be"
      },
      "outputs": [],
      "source": [
        "with open('student_answers.txt', 'w') as file:\n",
        "    file.write(f\"{players_180_190}\\n\")\n",
        "    file.write(f\"{players_1980}\\n\")\n",
        "    file.write(f\"{highest_players}\\n\")\n",
        "    file.write(f\"{years_born_players}\\n\")\n",
        "    file.write(f\"{round(adriano_mean, 3)} {round(adriano_std, 3)}\\n\")\n",
        "    file.write(f\"{dow_with_min_players_born}\\n\")\n",
        "    file.write(f\"{league_most_matches}\\n\")\n",
        "    file.write(f\"{max_matches_player}\\n\")\n",
        "    file.write(f\"{';'.join(['%s,%s' % tup for tup in top_correlated_features])};\\n\")\n",
        "    file.write(f\"{neymar_similarities}\\n\")\n",
        "    file.write(f\"{borussia_bundesliga_2008_2009_matches}\\n\")\n",
        "    file.write(f\"{team_most_matches_bundesliga_2008_2009}\\n\")\n",
        "    file.write(f\"{arsenal_won_matches_2015_2016}\\n\")\n",
        "    file.write(f\"{team_highest_winrate_2015_2016}\\n\")\n",
        "    file.write(f\"{highest_gap_england_2010_2011}\\n\")"
      ]
    },
    {
      "cell_type": "code",
      "execution_count": null,
      "id": "66861a4b-0e8f-4309-a1a2-0c837edef8f0",
      "metadata": {
        "id": "66861a4b-0e8f-4309-a1a2-0c837edef8f0"
      },
      "outputs": [],
      "source": []
    }
  ],
  "metadata": {
    "colab": {
      "collapsed_sections": [],
      "name": "Pandas_data_manipulations_tasks.ipynb",
      "provenance": []
    },
    "kernelspec": {
      "display_name": "Python 3 (ipykernel)",
      "language": "python",
      "name": "python3"
    },
    "language_info": {
      "codemirror_mode": {
        "name": "ipython",
        "version": 3
      },
      "file_extension": ".py",
      "mimetype": "text/x-python",
      "name": "python",
      "nbconvert_exporter": "python",
      "pygments_lexer": "ipython3",
      "version": "3.9.7"
    }
  },
  "nbformat": 4,
  "nbformat_minor": 5
}
